{
 "cells": [
  {
   "attachments": {},
   "cell_type": "markdown",
   "metadata": {},
   "source": [
    "# Lab 1"
   ]
  },
  {
   "attachments": {},
   "cell_type": "markdown",
   "metadata": {},
   "source": [
    "## Topics\n",
    "- Basic commands (scalars, vectors, matrices, and operations)\n",
    "- Import/Export of dataframes\n",
    "- Examples of univariate statistical analyses with plots\n",
    "- Visualization of Multivariate Data\n",
    "- Visualization of Categorical Data\n",
    "- 3D plots, functions, \"for\" cycles\n",
    "- Save plots"
   ]
  },
  {
   "attachments": {},
   "cell_type": "markdown",
   "metadata": {},
   "source": [
    "### Part 1 Basic Commands"
   ]
  },
  {
   "cell_type": "code",
   "execution_count": 1,
   "metadata": {
    "vscode": {
     "languageId": "r"
    }
   },
   "outputs": [
    {
     "data": {
      "text/html": [
       "'f:/OneDrive/POLIMI/Semester 4/Applied Statistics/2023/Lab/Labs-20230401/Lab 1'"
      ],
      "text/latex": [
       "'f:/OneDrive/POLIMI/Semester 4/Applied Statistics/2023/Lab/Labs-20230401/Lab 1'"
      ],
      "text/markdown": [
       "'f:/OneDrive/POLIMI/Semester 4/Applied Statistics/2023/Lab/Labs-20230401/Lab 1'"
      ],
      "text/plain": [
       "[1] \"f:/OneDrive/POLIMI/Semester 4/Applied Statistics/2023/Lab/Labs-20230401/Lab 1\""
      ]
     },
     "metadata": {},
     "output_type": "display_data"
    }
   ],
   "source": [
    "getwd() # the command:`getwd()`, its function is that returning the current working directory'the"
   ]
  },
  {
   "cell_type": "code",
   "execution_count": 2,
   "metadata": {
    "vscode": {
     "languageId": "r"
    }
   },
   "outputs": [],
   "source": [
    "# We can also set the working directory\n",
    "setwd(\"F:/OneDrive/POLIMI/Semester 4/Applied Statistics/2023/Lab/Labs-20230401/Lab 1\")"
   ]
  },
  {
   "attachments": {},
   "cell_type": "markdown",
   "metadata": {},
   "source": [
    "#### 1.1 Scalars"
   ]
  },
  {
   "cell_type": "code",
   "execution_count": 3,
   "metadata": {
    "vscode": {
     "languageId": "r"
    }
   },
   "outputs": [
    {
     "data": {
      "text/html": [
       "1"
      ],
      "text/latex": [
       "1"
      ],
      "text/markdown": [
       "1"
      ],
      "text/plain": [
       "[1] 1"
      ]
     },
     "metadata": {},
     "output_type": "display_data"
    }
   ],
   "source": [
    "a = 1 # 赋值\n",
    "a"
   ]
  },
  {
   "attachments": {},
   "cell_type": "markdown",
   "metadata": {},
   "source": [
    "#### 1.2 Vectors"
   ]
  },
  {
   "cell_type": "code",
   "execution_count": 4,
   "metadata": {
    "vscode": {
     "languageId": "r"
    }
   },
   "outputs": [
    {
     "data": {
      "text/html": [
       "<style>\n",
       ".list-inline {list-style: none; margin:0; padding: 0}\n",
       ".list-inline>li {display: inline-block}\n",
       ".list-inline>li:not(:last-child)::after {content: \"\\00b7\"; padding: 0 .5ex}\n",
       "</style>\n",
       "<ol class=list-inline><li>2</li><li>3</li><li>5</li><li>4</li></ol>\n"
      ],
      "text/latex": [
       "\\begin{enumerate*}\n",
       "\\item 2\n",
       "\\item 3\n",
       "\\item 5\n",
       "\\item 4\n",
       "\\end{enumerate*}\n"
      ],
      "text/markdown": [
       "1. 2\n",
       "2. 3\n",
       "3. 5\n",
       "4. 4\n",
       "\n",
       "\n"
      ],
      "text/plain": [
       "[1] 2 3 5 4"
      ]
     },
     "metadata": {},
     "output_type": "display_data"
    }
   ],
   "source": [
    "v = c(2, 3, 5, 4)\n",
    "v"
   ]
  },
  {
   "cell_type": "code",
   "execution_count": 5,
   "metadata": {
    "vscode": {
     "languageId": "r"
    }
   },
   "outputs": [
    {
     "data": {
      "text/html": [
       "<style>\n",
       ".list-inline {list-style: none; margin:0; padding: 0}\n",
       ".list-inline>li {display: inline-block}\n",
       ".list-inline>li:not(:last-child)::after {content: \"\\00b7\"; padding: 0 .5ex}\n",
       "</style>\n",
       "<ol class=list-inline><li>2</li><li>3</li><li>4</li><li>5</li></ol>\n"
      ],
      "text/latex": [
       "\\begin{enumerate*}\n",
       "\\item 2\n",
       "\\item 3\n",
       "\\item 4\n",
       "\\item 5\n",
       "\\end{enumerate*}\n"
      ],
      "text/markdown": [
       "1. 2\n",
       "2. 3\n",
       "3. 4\n",
       "4. 5\n",
       "\n",
       "\n"
      ],
      "text/plain": [
       "[1] 2 3 4 5"
      ]
     },
     "metadata": {},
     "output_type": "display_data"
    }
   ],
   "source": [
    "u = seq(2, 5, len = 4) # 输出4个元素，从2到5\n",
    "u"
   ]
  },
  {
   "cell_type": "code",
   "execution_count": 6,
   "metadata": {
    "vscode": {
     "languageId": "r"
    }
   },
   "outputs": [
    {
     "data": {
      "text/html": [
       "<style>\n",
       ".list-inline {list-style: none; margin:0; padding: 0}\n",
       ".list-inline>li {display: inline-block}\n",
       ".list-inline>li:not(:last-child)::after {content: \"\\00b7\"; padding: 0 .5ex}\n",
       "</style>\n",
       "<ol class=list-inline><li>2</li><li>3</li><li>4</li><li>5</li></ol>\n"
      ],
      "text/latex": [
       "\\begin{enumerate*}\n",
       "\\item 2\n",
       "\\item 3\n",
       "\\item 4\n",
       "\\item 5\n",
       "\\end{enumerate*}\n"
      ],
      "text/markdown": [
       "1. 2\n",
       "2. 3\n",
       "3. 4\n",
       "4. 5\n",
       "\n",
       "\n"
      ],
      "text/plain": [
       "[1] 2 3 4 5"
      ]
     },
     "metadata": {},
     "output_type": "display_data"
    },
    {
     "data": {
      "text/html": [
       "<style>\n",
       ".list-inline {list-style: none; margin:0; padding: 0}\n",
       ".list-inline>li {display: inline-block}\n",
       ".list-inline>li:not(:last-child)::after {content: \"\\00b7\"; padding: 0 .5ex}\n",
       "</style>\n",
       "<ol class=list-inline><li>2</li><li>3</li><li>4</li><li>5</li></ol>\n"
      ],
      "text/latex": [
       "\\begin{enumerate*}\n",
       "\\item 2\n",
       "\\item 3\n",
       "\\item 4\n",
       "\\item 5\n",
       "\\end{enumerate*}\n"
      ],
      "text/markdown": [
       "1. 2\n",
       "2. 3\n",
       "3. 4\n",
       "4. 5\n",
       "\n",
       "\n"
      ],
      "text/plain": [
       "[1] 2 3 4 5"
      ]
     },
     "metadata": {},
     "output_type": "display_data"
    },
    {
     "data": {
      "text/html": [
       "<style>\n",
       ".list-inline {list-style: none; margin:0; padding: 0}\n",
       ".list-inline>li {display: inline-block}\n",
       ".list-inline>li:not(:last-child)::after {content: \"\\00b7\"; padding: 0 .5ex}\n",
       "</style>\n",
       "<ol class=list-inline><li>2</li><li>3</li><li>4</li><li>5</li></ol>\n"
      ],
      "text/latex": [
       "\\begin{enumerate*}\n",
       "\\item 2\n",
       "\\item 3\n",
       "\\item 4\n",
       "\\item 5\n",
       "\\end{enumerate*}\n"
      ],
      "text/markdown": [
       "1. 2\n",
       "2. 3\n",
       "3. 4\n",
       "4. 5\n",
       "\n",
       "\n"
      ],
      "text/plain": [
       "[1] 2 3 4 5"
      ]
     },
     "metadata": {},
     "output_type": "display_data"
    }
   ],
   "source": [
    "u = seq(2, 5, by = 1) # 输出由2到5步长为1的所有元素\n",
    "u\n",
    "\n",
    "u1 = seq(2, 5, 1) # 默认为by，即等差 而非总长度len\n",
    "u1\n",
    "\n",
    "z = 2:5 # 默认等差值为 1\n",
    "z"
   ]
  },
  {
   "attachments": {},
   "cell_type": "markdown",
   "metadata": {},
   "source": [
    "#### 1.3 Matrices"
   ]
  },
  {
   "cell_type": "code",
   "execution_count": 7,
   "metadata": {
    "vscode": {
     "languageId": "r"
    }
   },
   "outputs": [
    {
     "data": {
      "text/html": [
       "<table class=\"dataframe\">\n",
       "<caption>A matrix: 2 × 3 of type dbl</caption>\n",
       "<tbody>\n",
       "\t<tr><td>11</td><td>13</td><td>15</td></tr>\n",
       "\t<tr><td>12</td><td>14</td><td>16</td></tr>\n",
       "</tbody>\n",
       "</table>\n"
      ],
      "text/latex": [
       "A matrix: 2 × 3 of type dbl\n",
       "\\begin{tabular}{lll}\n",
       "\t 11 & 13 & 15\\\\\n",
       "\t 12 & 14 & 16\\\\\n",
       "\\end{tabular}\n"
      ],
      "text/markdown": [
       "\n",
       "A matrix: 2 × 3 of type dbl\n",
       "\n",
       "| 11 | 13 | 15 |\n",
       "| 12 | 14 | 16 |\n",
       "\n"
      ],
      "text/plain": [
       "     [,1] [,2] [,3]\n",
       "[1,] 11   13   15  \n",
       "[2,] 12   14   16  "
      ]
     },
     "metadata": {},
     "output_type": "display_data"
    }
   ],
   "source": [
    "W = rbind(c(11, 13, 15), c(12, 14, 16)) # rbind()由行生成矩阵\n",
    "W"
   ]
  },
  {
   "cell_type": "code",
   "execution_count": 8,
   "metadata": {
    "vscode": {
     "languageId": "r"
    }
   },
   "outputs": [
    {
     "data": {
      "text/html": [
       "<table class=\"dataframe\">\n",
       "<caption>A matrix: 2 × 3 of type dbl</caption>\n",
       "<tbody>\n",
       "\t<tr><td>11</td><td>13</td><td>15</td></tr>\n",
       "\t<tr><td>12</td><td>14</td><td>16</td></tr>\n",
       "</tbody>\n",
       "</table>\n"
      ],
      "text/latex": [
       "A matrix: 2 × 3 of type dbl\n",
       "\\begin{tabular}{lll}\n",
       "\t 11 & 13 & 15\\\\\n",
       "\t 12 & 14 & 16\\\\\n",
       "\\end{tabular}\n"
      ],
      "text/markdown": [
       "\n",
       "A matrix: 2 × 3 of type dbl\n",
       "\n",
       "| 11 | 13 | 15 |\n",
       "| 12 | 14 | 16 |\n",
       "\n"
      ],
      "text/plain": [
       "     [,1] [,2] [,3]\n",
       "[1,] 11   13   15  \n",
       "[2,] 12   14   16  "
      ]
     },
     "metadata": {},
     "output_type": "display_data"
    }
   ],
   "source": [
    "W = cbind(c(11, 12), c(13, 14), c(15, 16)) # cbind()由行生成矩阵\n",
    "W"
   ]
  },
  {
   "cell_type": "code",
   "execution_count": 9,
   "metadata": {
    "vscode": {
     "languageId": "r"
    }
   },
   "outputs": [
    {
     "data": {
      "text/html": [
       "<table class=\"dataframe\">\n",
       "<caption>A matrix: 2 × 3 of type dbl</caption>\n",
       "<tbody>\n",
       "\t<tr><td>11</td><td>13</td><td>15</td></tr>\n",
       "\t<tr><td>12</td><td>14</td><td>16</td></tr>\n",
       "</tbody>\n",
       "</table>\n"
      ],
      "text/latex": [
       "A matrix: 2 × 3 of type dbl\n",
       "\\begin{tabular}{lll}\n",
       "\t 11 & 13 & 15\\\\\n",
       "\t 12 & 14 & 16\\\\\n",
       "\\end{tabular}\n"
      ],
      "text/markdown": [
       "\n",
       "A matrix: 2 × 3 of type dbl\n",
       "\n",
       "| 11 | 13 | 15 |\n",
       "| 12 | 14 | 16 |\n",
       "\n"
      ],
      "text/plain": [
       "     [,1] [,2] [,3]\n",
       "[1,] 11   13   15  \n",
       "[2,] 12   14   16  "
      ]
     },
     "metadata": {},
     "output_type": "display_data"
    }
   ],
   "source": [
    "# data 列举矩阵中所有元素，排序方式由列的方式 2行3列\n",
    "W = matrix(data = c(11, 12, 13, 14, 15, 16), nrow = 2, ncol = 3, byrow = F) \n",
    "\n",
    "# 也可简写为 默认按列排序\n",
    "W = matrix(data = c(11, 12, 13, 14, 15, 16),2,3) # byrow 默认为 F\n",
    "W"
   ]
  },
  {
   "attachments": {},
   "cell_type": "markdown",
   "metadata": {},
   "source": [
    "#### 1.4 Extraction of elements from a vector or a matrix"
   ]
  },
  {
   "cell_type": "code",
   "execution_count": 10,
   "metadata": {
    "vscode": {
     "languageId": "r"
    }
   },
   "outputs": [
    {
     "data": {
      "text/html": [
       "<style>\n",
       ".list-inline {list-style: none; margin:0; padding: 0}\n",
       ".list-inline>li {display: inline-block}\n",
       ".list-inline>li:not(:last-child)::after {content: \"\\00b7\"; padding: 0 .5ex}\n",
       "</style>\n",
       "<ol class=list-inline><li>2</li><li>3</li><li>5</li><li>4</li></ol>\n"
      ],
      "text/latex": [
       "\\begin{enumerate*}\n",
       "\\item 2\n",
       "\\item 3\n",
       "\\item 5\n",
       "\\item 4\n",
       "\\end{enumerate*}\n"
      ],
      "text/markdown": [
       "1. 2\n",
       "2. 3\n",
       "3. 5\n",
       "4. 4\n",
       "\n",
       "\n"
      ],
      "text/plain": [
       "[1] 2 3 5 4"
      ]
     },
     "metadata": {},
     "output_type": "display_data"
    },
    {
     "data": {
      "text/html": [
       "3"
      ],
      "text/latex": [
       "3"
      ],
      "text/markdown": [
       "3"
      ],
      "text/plain": [
       "[1] 3"
      ]
     },
     "metadata": {},
     "output_type": "display_data"
    },
    {
     "data": {
      "text/html": [
       "<style>\n",
       ".list-inline {list-style: none; margin:0; padding: 0}\n",
       ".list-inline>li {display: inline-block}\n",
       ".list-inline>li:not(:last-child)::after {content: \"\\00b7\"; padding: 0 .5ex}\n",
       "</style>\n",
       "<ol class=list-inline><li>2</li><li>3</li><li>4</li></ol>\n"
      ],
      "text/latex": [
       "\\begin{enumerate*}\n",
       "\\item 2\n",
       "\\item 3\n",
       "\\item 4\n",
       "\\end{enumerate*}\n"
      ],
      "text/markdown": [
       "1. 2\n",
       "2. 3\n",
       "3. 4\n",
       "\n",
       "\n"
      ],
      "text/plain": [
       "[1] 2 3 4"
      ]
     },
     "metadata": {},
     "output_type": "display_data"
    },
    {
     "data": {
      "text/html": [
       "<style>\n",
       ".list-inline {list-style: none; margin:0; padding: 0}\n",
       ".list-inline>li {display: inline-block}\n",
       ".list-inline>li:not(:last-child)::after {content: \"\\00b7\"; padding: 0 .5ex}\n",
       "</style>\n",
       "<ol class=list-inline><li>3</li><li>5</li></ol>\n"
      ],
      "text/latex": [
       "\\begin{enumerate*}\n",
       "\\item 3\n",
       "\\item 5\n",
       "\\end{enumerate*}\n"
      ],
      "text/markdown": [
       "1. 3\n",
       "2. 5\n",
       "\n",
       "\n"
      ],
      "text/plain": [
       "[1] 3 5"
      ]
     },
     "metadata": {},
     "output_type": "display_data"
    }
   ],
   "source": [
    "v # 输出向量v\n",
    "\n",
    "v[2] # 输出向量v的第二个元素\n",
    "\n",
    "v[-3] # 输出向量v 除了第三个元素以外的所有元素\n",
    "\n",
    "v[-c(1, 4)] # 输出向量v除了第一和第四以外的所有元素"
   ]
  },
  {
   "cell_type": "code",
   "execution_count": 11,
   "metadata": {
    "vscode": {
     "languageId": "r"
    }
   },
   "outputs": [
    {
     "data": {
      "text/html": [
       "<table class=\"dataframe\">\n",
       "<caption>A matrix: 2 × 3 of type dbl</caption>\n",
       "<tbody>\n",
       "\t<tr><td>11</td><td>13</td><td>15</td></tr>\n",
       "\t<tr><td>12</td><td>14</td><td>16</td></tr>\n",
       "</tbody>\n",
       "</table>\n"
      ],
      "text/latex": [
       "A matrix: 2 × 3 of type dbl\n",
       "\\begin{tabular}{lll}\n",
       "\t 11 & 13 & 15\\\\\n",
       "\t 12 & 14 & 16\\\\\n",
       "\\end{tabular}\n"
      ],
      "text/markdown": [
       "\n",
       "A matrix: 2 × 3 of type dbl\n",
       "\n",
       "| 11 | 13 | 15 |\n",
       "| 12 | 14 | 16 |\n",
       "\n"
      ],
      "text/plain": [
       "     [,1] [,2] [,3]\n",
       "[1,] 11   13   15  \n",
       "[2,] 12   14   16  "
      ]
     },
     "metadata": {},
     "output_type": "display_data"
    },
    {
     "data": {
      "text/html": [
       "16"
      ],
      "text/latex": [
       "16"
      ],
      "text/markdown": [
       "16"
      ],
      "text/plain": [
       "[1] 16"
      ]
     },
     "metadata": {},
     "output_type": "display_data"
    },
    {
     "data": {
      "text/html": [
       "<style>\n",
       ".list-inline {list-style: none; margin:0; padding: 0}\n",
       ".list-inline>li {display: inline-block}\n",
       ".list-inline>li:not(:last-child)::after {content: \"\\00b7\"; padding: 0 .5ex}\n",
       "</style>\n",
       "<ol class=list-inline><li>14</li><li>16</li></ol>\n"
      ],
      "text/latex": [
       "\\begin{enumerate*}\n",
       "\\item 14\n",
       "\\item 16\n",
       "\\end{enumerate*}\n"
      ],
      "text/markdown": [
       "1. 14\n",
       "2. 16\n",
       "\n",
       "\n"
      ],
      "text/plain": [
       "[1] 14 16"
      ]
     },
     "metadata": {},
     "output_type": "display_data"
    },
    {
     "data": {
      "text/html": [
       "<style>\n",
       ".list-inline {list-style: none; margin:0; padding: 0}\n",
       ".list-inline>li {display: inline-block}\n",
       ".list-inline>li:not(:last-child)::after {content: \"\\00b7\"; padding: 0 .5ex}\n",
       "</style>\n",
       "<ol class=list-inline><li>12</li><li>14</li><li>16</li></ol>\n"
      ],
      "text/latex": [
       "\\begin{enumerate*}\n",
       "\\item 12\n",
       "\\item 14\n",
       "\\item 16\n",
       "\\end{enumerate*}\n"
      ],
      "text/markdown": [
       "1. 12\n",
       "2. 14\n",
       "3. 16\n",
       "\n",
       "\n"
      ],
      "text/plain": [
       "[1] 12 14 16"
      ]
     },
     "metadata": {},
     "output_type": "display_data"
    },
    {
     "data": {
      "text/html": [
       "<table class=\"dataframe\">\n",
       "<caption>A matrix: 2 × 2 of type dbl</caption>\n",
       "<tbody>\n",
       "\t<tr><td>13</td><td>15</td></tr>\n",
       "\t<tr><td>14</td><td>16</td></tr>\n",
       "</tbody>\n",
       "</table>\n"
      ],
      "text/latex": [
       "A matrix: 2 × 2 of type dbl\n",
       "\\begin{tabular}{ll}\n",
       "\t 13 & 15\\\\\n",
       "\t 14 & 16\\\\\n",
       "\\end{tabular}\n"
      ],
      "text/markdown": [
       "\n",
       "A matrix: 2 × 2 of type dbl\n",
       "\n",
       "| 13 | 15 |\n",
       "| 14 | 16 |\n",
       "\n"
      ],
      "text/plain": [
       "     [,1] [,2]\n",
       "[1,] 13   15  \n",
       "[2,] 14   16  "
      ]
     },
     "metadata": {},
     "output_type": "display_data"
    }
   ],
   "source": [
    "W\n",
    "\n",
    "W[2, 3] # 输出第二行第三列的元素值\n",
    "\n",
    "W[2, c(2, 3)] # 输出第二行的第二列和第三列的元素值\n",
    "\n",
    "W[2, ] # 输出第二行的所有元素值\n",
    "\n",
    "W[, c(2, 3)] # 输出所有行的第二列和第三列的值\n"
   ]
  },
  {
   "attachments": {},
   "cell_type": "markdown",
   "metadata": {},
   "source": [
    "**Remark: in R vectors \"are not\" matrices $n*1$ or $1*n$**\n",
    "\n",
    "vectors have only one index, whereas matrices have two indices (for rows and columns)."
   ]
  },
  {
   "cell_type": "code",
   "execution_count": 12,
   "metadata": {
    "vscode": {
     "languageId": "r"
    }
   },
   "outputs": [
    {
     "data": {
      "text/html": [
       "<style>\n",
       ".list-inline {list-style: none; margin:0; padding: 0}\n",
       ".list-inline>li {display: inline-block}\n",
       ".list-inline>li:not(:last-child)::after {content: \"\\00b7\"; padding: 0 .5ex}\n",
       "</style>\n",
       "<ol class=list-inline><li>2</li><li>3</li><li>5</li><li>4</li></ol>\n"
      ],
      "text/latex": [
       "\\begin{enumerate*}\n",
       "\\item 2\n",
       "\\item 3\n",
       "\\item 5\n",
       "\\item 4\n",
       "\\end{enumerate*}\n"
      ],
      "text/markdown": [
       "1. 2\n",
       "2. 3\n",
       "3. 5\n",
       "4. 4\n",
       "\n",
       "\n"
      ],
      "text/plain": [
       "[1] 2 3 5 4"
      ]
     },
     "metadata": {},
     "output_type": "display_data"
    },
    {
     "data": {
      "text/html": [
       "<table class=\"dataframe\">\n",
       "<caption>A matrix: 1 × 4 of type dbl</caption>\n",
       "<tbody>\n",
       "\t<tr><th scope=row>v</th><td>2</td><td>3</td><td>5</td><td>4</td></tr>\n",
       "</tbody>\n",
       "</table>\n"
      ],
      "text/latex": [
       "A matrix: 1 × 4 of type dbl\n",
       "\\begin{tabular}{r|llll}\n",
       "\tv & 2 & 3 & 5 & 4\\\\\n",
       "\\end{tabular}\n"
      ],
      "text/markdown": [
       "\n",
       "A matrix: 1 × 4 of type dbl\n",
       "\n",
       "| v | 2 | 3 | 5 | 4 |\n",
       "\n"
      ],
      "text/plain": [
       "  [,1] [,2] [,3] [,4]\n",
       "v 2    3    5    4   "
      ]
     },
     "metadata": {},
     "output_type": "display_data"
    },
    {
     "data": {
      "text/html": [
       "<table class=\"dataframe\">\n",
       "<caption>A matrix: 4 × 1 of type dbl</caption>\n",
       "<thead>\n",
       "\t<tr><th scope=col>v</th></tr>\n",
       "</thead>\n",
       "<tbody>\n",
       "\t<tr><td>2</td></tr>\n",
       "\t<tr><td>3</td></tr>\n",
       "\t<tr><td>5</td></tr>\n",
       "\t<tr><td>4</td></tr>\n",
       "</tbody>\n",
       "</table>\n"
      ],
      "text/latex": [
       "A matrix: 4 × 1 of type dbl\n",
       "\\begin{tabular}{l}\n",
       " v\\\\\n",
       "\\hline\n",
       "\t 2\\\\\n",
       "\t 3\\\\\n",
       "\t 5\\\\\n",
       "\t 4\\\\\n",
       "\\end{tabular}\n"
      ],
      "text/markdown": [
       "\n",
       "A matrix: 4 × 1 of type dbl\n",
       "\n",
       "| v |\n",
       "|---|\n",
       "| 2 |\n",
       "| 3 |\n",
       "| 5 |\n",
       "| 4 |\n",
       "\n"
      ],
      "text/plain": [
       "     v\n",
       "[1,] 2\n",
       "[2,] 3\n",
       "[3,] 5\n",
       "[4,] 4"
      ]
     },
     "metadata": {},
     "output_type": "display_data"
    }
   ],
   "source": [
    "# 转换 1*n 向量 为 矩阵\n",
    "v \n",
    "rbind(v) # 按行\n",
    "\n",
    "cbind(v) # 按列\n"
   ]
  },
  {
   "attachments": {},
   "cell_type": "markdown",
   "metadata": {},
   "source": [
    "#### 1.5 Algebraic operations"
   ]
  },
  {
   "cell_type": "code",
   "execution_count": 13,
   "metadata": {
    "vscode": {
     "languageId": "r"
    }
   },
   "outputs": [
    {
     "data": {
      "text/html": [
       "<table class=\"dataframe\">\n",
       "<caption>A matrix: 2 × 3 of type dbl</caption>\n",
       "<tbody>\n",
       "\t<tr><td> 1</td><td> 3</td><td> 5</td></tr>\n",
       "\t<tr><td>10</td><td>10</td><td>10</td></tr>\n",
       "</tbody>\n",
       "</table>\n"
      ],
      "text/latex": [
       "A matrix: 2 × 3 of type dbl\n",
       "\\begin{tabular}{lll}\n",
       "\t  1 &  3 &  5\\\\\n",
       "\t 10 & 10 & 10\\\\\n",
       "\\end{tabular}\n"
      ],
      "text/markdown": [
       "\n",
       "A matrix: 2 × 3 of type dbl\n",
       "\n",
       "|  1 |  3 |  5 |\n",
       "| 10 | 10 | 10 |\n",
       "\n"
      ],
      "text/plain": [
       "     [,1] [,2] [,3]\n",
       "[1,]  1    3    5  \n",
       "[2,] 10   10   10  "
      ]
     },
     "metadata": {},
     "output_type": "display_data"
    }
   ],
   "source": [
    "a = 1\n",
    "b = 2\n",
    "c = c(2, 3, 4)\n",
    "d = c(10, 10, 10)\n",
    "\n",
    "Z = matrix(c(1, 10, 3, 10, 5, 10), 2, 3)\n",
    "Z"
   ]
  },
  {
   "cell_type": "code",
   "execution_count": 14,
   "metadata": {
    "vscode": {
     "languageId": "r"
    }
   },
   "outputs": [
    {
     "data": {
      "text/html": [
       "3"
      ],
      "text/latex": [
       "3"
      ],
      "text/markdown": [
       "3"
      ],
      "text/plain": [
       "[1] 3"
      ]
     },
     "metadata": {},
     "output_type": "display_data"
    },
    {
     "data": {
      "text/html": [
       "2"
      ],
      "text/latex": [
       "2"
      ],
      "text/markdown": [
       "2"
      ],
      "text/plain": [
       "[1] 2"
      ]
     },
     "metadata": {},
     "output_type": "display_data"
    },
    {
     "data": {
      "text/html": [
       "<style>\n",
       ".list-inline {list-style: none; margin:0; padding: 0}\n",
       ".list-inline>li {display: inline-block}\n",
       ".list-inline>li:not(:last-child)::after {content: \"\\00b7\"; padding: 0 .5ex}\n",
       "</style>\n",
       "<ol class=list-inline><li>3</li><li>4</li><li>5</li></ol>\n"
      ],
      "text/latex": [
       "\\begin{enumerate*}\n",
       "\\item 3\n",
       "\\item 4\n",
       "\\item 5\n",
       "\\end{enumerate*}\n"
      ],
      "text/markdown": [
       "1. 3\n",
       "2. 4\n",
       "3. 5\n",
       "\n",
       "\n"
      ],
      "text/plain": [
       "[1] 3 4 5"
      ]
     },
     "metadata": {},
     "output_type": "display_data"
    }
   ],
   "source": [
    "a + b # scalar + scalar\n",
    "a * b # scalar * scalar\n",
    "c + a # vector + scalar 向量中的每个元素都加上该标量"
   ]
  },
  {
   "cell_type": "code",
   "execution_count": 15,
   "metadata": {
    "vscode": {
     "languageId": "r"
    }
   },
   "outputs": [
    {
     "data": {
      "text/html": [
       "<style>\n",
       ".list-inline {list-style: none; margin:0; padding: 0}\n",
       ".list-inline>li {display: inline-block}\n",
       ".list-inline>li:not(:last-child)::after {content: \"\\00b7\"; padding: 0 .5ex}\n",
       "</style>\n",
       "<ol class=list-inline><li>12</li><li>13</li><li>14</li></ol>\n"
      ],
      "text/latex": [
       "\\begin{enumerate*}\n",
       "\\item 12\n",
       "\\item 13\n",
       "\\item 14\n",
       "\\end{enumerate*}\n"
      ],
      "text/markdown": [
       "1. 12\n",
       "2. 13\n",
       "3. 14\n",
       "\n",
       "\n"
      ],
      "text/plain": [
       "[1] 12 13 14"
      ]
     },
     "metadata": {},
     "output_type": "display_data"
    },
    {
     "data": {
      "text/html": [
       "<style>\n",
       ".list-inline {list-style: none; margin:0; padding: 0}\n",
       ".list-inline>li {display: inline-block}\n",
       ".list-inline>li:not(:last-child)::after {content: \"\\00b7\"; padding: 0 .5ex}\n",
       "</style>\n",
       "<ol class=list-inline><li>20</li><li>30</li><li>40</li></ol>\n"
      ],
      "text/latex": [
       "\\begin{enumerate*}\n",
       "\\item 20\n",
       "\\item 30\n",
       "\\item 40\n",
       "\\end{enumerate*}\n"
      ],
      "text/markdown": [
       "1. 20\n",
       "2. 30\n",
       "3. 40\n",
       "\n",
       "\n"
      ],
      "text/plain": [
       "[1] 20 30 40"
      ]
     },
     "metadata": {},
     "output_type": "display_data"
    },
    {
     "data": {
      "text/html": [
       "<style>\n",
       ".list-inline {list-style: none; margin:0; padding: 0}\n",
       ".list-inline>li {display: inline-block}\n",
       ".list-inline>li:not(:last-child)::after {content: \"\\00b7\"; padding: 0 .5ex}\n",
       "</style>\n",
       "<ol class=list-inline><li>4</li><li>9</li><li>16</li></ol>\n"
      ],
      "text/latex": [
       "\\begin{enumerate*}\n",
       "\\item 4\n",
       "\\item 9\n",
       "\\item 16\n",
       "\\end{enumerate*}\n"
      ],
      "text/markdown": [
       "1. 4\n",
       "2. 9\n",
       "3. 16\n",
       "\n",
       "\n"
      ],
      "text/plain": [
       "[1]  4  9 16"
      ]
     },
     "metadata": {},
     "output_type": "display_data"
    },
    {
     "data": {
      "text/html": [
       "<style>\n",
       ".list-inline {list-style: none; margin:0; padding: 0}\n",
       ".list-inline>li {display: inline-block}\n",
       ".list-inline>li:not(:last-child)::after {content: \"\\00b7\"; padding: 0 .5ex}\n",
       "</style>\n",
       "<ol class=list-inline><li>7.38905609893065</li><li>20.0855369231877</li><li>54.5981500331442</li></ol>\n"
      ],
      "text/latex": [
       "\\begin{enumerate*}\n",
       "\\item 7.38905609893065\n",
       "\\item 20.0855369231877\n",
       "\\item 54.5981500331442\n",
       "\\end{enumerate*}\n"
      ],
      "text/markdown": [
       "1. 7.38905609893065\n",
       "2. 20.0855369231877\n",
       "3. 54.5981500331442\n",
       "\n",
       "\n"
      ],
      "text/plain": [
       "[1]  7.389056 20.085537 54.598150"
      ]
     },
     "metadata": {},
     "output_type": "display_data"
    }
   ],
   "source": [
    "c + d # vector + vector 点加\n",
    "c * d # vector * vector (component-wise) 点对点乘\n",
    "c^2 # attention: operations are always component-wise! 点乘（c*c）\n",
    "exp(c) #还是点运算"
   ]
  },
  {
   "cell_type": "code",
   "execution_count": 16,
   "metadata": {
    "vscode": {
     "languageId": "r"
    }
   },
   "outputs": [
    {
     "data": {
      "text/html": [
       "9"
      ],
      "text/latex": [
       "9"
      ],
      "text/markdown": [
       "9"
      ],
      "text/plain": [
       "[1] 9"
      ]
     },
     "metadata": {},
     "output_type": "display_data"
    },
    {
     "data": {
      "text/html": [
       "24"
      ],
      "text/latex": [
       "24"
      ],
      "text/markdown": [
       "24"
      ],
      "text/plain": [
       "[1] 24"
      ]
     },
     "metadata": {},
     "output_type": "display_data"
    }
   ],
   "source": [
    "sum(c) # sums the components of c 累加所有向量c中的元素\n",
    "prod(c) # returns the product of the components of c 累乘所有向量c中的元素"
   ]
  },
  {
   "cell_type": "code",
   "execution_count": 17,
   "metadata": {
    "vscode": {
     "languageId": "r"
    }
   },
   "outputs": [
    {
     "data": {
      "text/html": [
       "<table class=\"dataframe\">\n",
       "<caption>A matrix: 3 × 2 of type dbl</caption>\n",
       "<tbody>\n",
       "\t<tr><td>11</td><td>12</td></tr>\n",
       "\t<tr><td>13</td><td>14</td></tr>\n",
       "\t<tr><td>15</td><td>16</td></tr>\n",
       "</tbody>\n",
       "</table>\n"
      ],
      "text/latex": [
       "A matrix: 3 × 2 of type dbl\n",
       "\\begin{tabular}{ll}\n",
       "\t 11 & 12\\\\\n",
       "\t 13 & 14\\\\\n",
       "\t 15 & 16\\\\\n",
       "\\end{tabular}\n"
      ],
      "text/markdown": [
       "\n",
       "A matrix: 3 × 2 of type dbl\n",
       "\n",
       "| 11 | 12 |\n",
       "| 13 | 14 |\n",
       "| 15 | 16 |\n",
       "\n"
      ],
      "text/plain": [
       "     [,1] [,2]\n",
       "[1,] 11   12  \n",
       "[2,] 13   14  \n",
       "[3,] 15   16  "
      ]
     },
     "metadata": {},
     "output_type": "display_data"
    }
   ],
   "source": [
    "V = t(W) # transpose of a matrix\n",
    "V"
   ]
  },
  {
   "cell_type": "code",
   "execution_count": 18,
   "metadata": {
    "vscode": {
     "languageId": "r"
    }
   },
   "outputs": [
    {
     "data": {
      "text/html": [
       "<table class=\"dataframe\">\n",
       "<caption>A matrix: 2 × 3 of type dbl</caption>\n",
       "<tbody>\n",
       "\t<tr><td>12</td><td>16</td><td>20</td></tr>\n",
       "\t<tr><td>22</td><td>24</td><td>26</td></tr>\n",
       "</tbody>\n",
       "</table>\n"
      ],
      "text/latex": [
       "A matrix: 2 × 3 of type dbl\n",
       "\\begin{tabular}{lll}\n",
       "\t 12 & 16 & 20\\\\\n",
       "\t 22 & 24 & 26\\\\\n",
       "\\end{tabular}\n"
      ],
      "text/markdown": [
       "\n",
       "A matrix: 2 × 3 of type dbl\n",
       "\n",
       "| 12 | 16 | 20 |\n",
       "| 22 | 24 | 26 |\n",
       "\n"
      ],
      "text/plain": [
       "     [,1] [,2] [,3]\n",
       "[1,] 12   16   20  \n",
       "[2,] 22   24   26  "
      ]
     },
     "metadata": {},
     "output_type": "display_data"
    },
    {
     "data": {
      "text/html": [
       "<table class=\"dataframe\">\n",
       "<caption>A matrix: 2 × 3 of type dbl</caption>\n",
       "<tbody>\n",
       "\t<tr><td> 11</td><td> 39</td><td> 75</td></tr>\n",
       "\t<tr><td>120</td><td>140</td><td>160</td></tr>\n",
       "</tbody>\n",
       "</table>\n"
      ],
      "text/latex": [
       "A matrix: 2 × 3 of type dbl\n",
       "\\begin{tabular}{lll}\n",
       "\t  11 &  39 &  75\\\\\n",
       "\t 120 & 140 & 160\\\\\n",
       "\\end{tabular}\n"
      ],
      "text/markdown": [
       "\n",
       "A matrix: 2 × 3 of type dbl\n",
       "\n",
       "|  11 |  39 |  75 |\n",
       "| 120 | 140 | 160 |\n",
       "\n"
      ],
      "text/plain": [
       "     [,1] [,2] [,3]\n",
       "[1,]  11   39   75 \n",
       "[2,] 120  140  160 "
      ]
     },
     "metadata": {},
     "output_type": "display_data"
    },
    {
     "ename": "ERROR",
     "evalue": "Error in V * W: 非整合陈列\n",
     "output_type": "error",
     "traceback": [
      "Error in V * W: 非整合陈列\nTraceback:\n"
     ]
    }
   ],
   "source": [
    "Z + W # matrix + matrix (component-wise) 等大小矩阵点加\n",
    "Z * W # matrix * matrix (component-wise) 等大小矩阵点乘\n",
    "\n",
    "\n",
    "V * W # matrix * matrix (component-wise) (error!) 非等大小无法相乘\n",
    "# Error in V * W : non-conformable arrays"
   ]
  },
  {
   "cell_type": "code",
   "execution_count": 20,
   "metadata": {
    "vscode": {
     "languageId": "r"
    }
   },
   "outputs": [
    {
     "data": {
      "text/html": [
       "<table class=\"dataframe\">\n",
       "<caption>A matrix: 2 × 2 of type dbl</caption>\n",
       "<tbody>\n",
       "\t<tr><td>515</td><td>554</td></tr>\n",
       "\t<tr><td>554</td><td>596</td></tr>\n",
       "</tbody>\n",
       "</table>\n"
      ],
      "text/latex": [
       "A matrix: 2 × 2 of type dbl\n",
       "\\begin{tabular}{ll}\n",
       "\t 515 & 554\\\\\n",
       "\t 554 & 596\\\\\n",
       "\\end{tabular}\n"
      ],
      "text/markdown": [
       "\n",
       "A matrix: 2 × 2 of type dbl\n",
       "\n",
       "| 515 | 554 |\n",
       "| 554 | 596 |\n",
       "\n"
      ],
      "text/plain": [
       "     [,1] [,2]\n",
       "[1,] 515  554 \n",
       "[2,] 554  596 "
      ]
     },
     "metadata": {},
     "output_type": "display_data"
    }
   ],
   "source": [
    "W %*% V # 矩阵乘法"
   ]
  },
  {
   "cell_type": "code",
   "execution_count": 21,
   "metadata": {
    "vscode": {
     "languageId": "r"
    }
   },
   "outputs": [
    {
     "data": {
      "text/html": [
       "<table class=\"dataframe\">\n",
       "<caption>A matrix: 2 × 3 of type dbl</caption>\n",
       "<tbody>\n",
       "\t<tr><td>12</td><td>14</td><td>16</td></tr>\n",
       "\t<tr><td>13</td><td>15</td><td>17</td></tr>\n",
       "</tbody>\n",
       "</table>\n"
      ],
      "text/latex": [
       "A matrix: 2 × 3 of type dbl\n",
       "\\begin{tabular}{lll}\n",
       "\t 12 & 14 & 16\\\\\n",
       "\t 13 & 15 & 17\\\\\n",
       "\\end{tabular}\n"
      ],
      "text/markdown": [
       "\n",
       "A matrix: 2 × 3 of type dbl\n",
       "\n",
       "| 12 | 14 | 16 |\n",
       "| 13 | 15 | 17 |\n",
       "\n"
      ],
      "text/plain": [
       "     [,1] [,2] [,3]\n",
       "[1,] 12   14   16  \n",
       "[2,] 13   15   17  "
      ]
     },
     "metadata": {},
     "output_type": "display_data"
    },
    {
     "data": {
      "text/html": [
       "<table class=\"dataframe\">\n",
       "<caption>A matrix: 2 × 3 of type dbl</caption>\n",
       "<tbody>\n",
       "\t<tr><td>13</td><td>17</td><td>18</td></tr>\n",
       "\t<tr><td>15</td><td>16</td><td>20</td></tr>\n",
       "</tbody>\n",
       "</table>\n"
      ],
      "text/latex": [
       "A matrix: 2 × 3 of type dbl\n",
       "\\begin{tabular}{lll}\n",
       "\t 13 & 17 & 18\\\\\n",
       "\t 15 & 16 & 20\\\\\n",
       "\\end{tabular}\n"
      ],
      "text/markdown": [
       "\n",
       "A matrix: 2 × 3 of type dbl\n",
       "\n",
       "| 13 | 17 | 18 |\n",
       "| 15 | 16 | 20 |\n",
       "\n"
      ],
      "text/plain": [
       "     [,1] [,2] [,3]\n",
       "[1,] 13   17   18  \n",
       "[2,] 15   16   20  "
      ]
     },
     "metadata": {},
     "output_type": "display_data"
    },
    {
     "name": "stderr",
     "output_type": "stream",
     "text": [
      "Warning message in W + 2:5:\n",
      "\"长的对象长度不是短的对象长度的整倍数\"\n"
     ]
    },
    {
     "data": {
      "text/html": [
       "<table class=\"dataframe\">\n",
       "<caption>A matrix: 2 × 3 of type dbl</caption>\n",
       "<tbody>\n",
       "\t<tr><td>13</td><td>17</td><td>17</td></tr>\n",
       "\t<tr><td>15</td><td>19</td><td>19</td></tr>\n",
       "</tbody>\n",
       "</table>\n"
      ],
      "text/latex": [
       "A matrix: 2 × 3 of type dbl\n",
       "\\begin{tabular}{lll}\n",
       "\t 13 & 17 & 17\\\\\n",
       "\t 15 & 19 & 19\\\\\n",
       "\\end{tabular}\n"
      ],
      "text/markdown": [
       "\n",
       "A matrix: 2 × 3 of type dbl\n",
       "\n",
       "| 13 | 17 | 17 |\n",
       "| 15 | 19 | 19 |\n",
       "\n"
      ],
      "text/plain": [
       "     [,1] [,2] [,3]\n",
       "[1,] 13   17   17  \n",
       "[2,] 15   19   19  "
      ]
     },
     "metadata": {},
     "output_type": "display_data"
    }
   ],
   "source": [
    "W + a # matrix + scalar 矩阵每个元素都加该标量\n",
    "\n",
    "W + c # matrix + vector 整数倍循环\n",
    "\n",
    "W + 2:5 # 矩阵和向量 非整数倍无法相加\n",
    "# longer object length is not a multiple of shorter object length"
   ]
  },
  {
   "cell_type": "code",
   "execution_count": null,
   "metadata": {
    "vscode": {
     "languageId": "r"
    }
   },
   "outputs": [],
   "source": [
    "# Inverse of a matrix (square and invertible)\n",
    "A = matrix(c(11, 13, 12, 14), ncol=2, nrow=2, byrow=TRUE)\n",
    "det(A) # 计算矩阵A的行列式\n",
    "solve(A) # 求解线性方程组 Ax = b，其中b是一个列向量，在这里默认单位矩阵"
   ]
  },
  {
   "cell_type": "code",
   "execution_count": null,
   "metadata": {
    "vscode": {
     "languageId": "r"
    }
   },
   "outputs": [],
   "source": [
    "# Solution of a linear system Ax=b\n",
    "b = c(1, 1)\n",
    "b\n",
    "A\n",
    "solve(A, b)"
   ]
  },
  {
   "attachments": {},
   "cell_type": "markdown",
   "metadata": {},
   "source": [
    "### Part 2 Categorical Data"
   ]
  },
  {
   "cell_type": "code",
   "execution_count": null,
   "metadata": {
    "vscode": {
     "languageId": "r"
    }
   },
   "outputs": [],
   "source": [
    "# factor() 有点类似sorted\n",
    "district = c('MI', 'MI', 'VA', 'BG', 'LO', 'LO', 'CR', 'Alt', 'CR', 'MI', 'Alt', 'CR', 'LO', 'VA', 'MI', 'Alt', 'LO', 'MI')\n",
    "\n",
    "district = factor(district, levels=c('MI', 'LO', 'BG', 'CR', 'VA', 'Alt')) \n",
    "district"
   ]
  },
  {
   "cell_type": "code",
   "execution_count": null,
   "metadata": {
    "vscode": {
     "languageId": "r"
    }
   },
   "outputs": [],
   "source": [
    "resass = table(district) # table of absolute frequencies 用来统计之前levels中元素出现的次数\n",
    "resass"
   ]
  },
  {
   "cell_type": "code",
   "execution_count": null,
   "metadata": {
    "vscode": {
     "languageId": "r"
    }
   },
   "outputs": [],
   "source": [
    "# 除以列表总长度，用来计算levels中每个元素出现的频率\n",
    "resrel <- table(district) / length(district) # table of relative frequencies\n",
    "resrel"
   ]
  },
  {
   "cell_type": "code",
   "execution_count": null,
   "metadata": {
    "vscode": {
     "languageId": "r"
    }
   },
   "outputs": [],
   "source": [
    "# lists: objects made of objects (objects can be of different type)\n",
    "exam = list(course = 'Applied Statistics',\n",
    "            data = '27/09/2022',\n",
    "            enrolled = 7,\n",
    "            corrected = 6,\n",
    "            student_id = as.character(c(45020, 45679, 46789, 43126, 42345,47568, 45674)),\n",
    "            # as.character(c(...))将向量数据转换为字符串\n",
    "            evaluation = c(30, 29, 30, NA, 25, 26, 27)\n",
    ")\n",
    "exam"
   ]
  },
  {
   "cell_type": "code",
   "execution_count": null,
   "metadata": {
    "vscode": {
     "languageId": "r"
    }
   },
   "outputs": [],
   "source": [
    "# 这两行代码都可以将 `evaluation`列表输出，  也可以因为其是第六行数据\n",
    "exam$evaluation # $符号后面可以直接输出\n",
    "exam[[6]] # 也可以因为其是第六行数据"
   ]
  },
  {
   "cell_type": "code",
   "execution_count": null,
   "metadata": {
    "vscode": {
     "languageId": "r"
    }
   },
   "outputs": [],
   "source": [
    "# data.frame可以看作是一张表格，其中每一列可以是不同的数据类型，如字符型、数值型、因子变量等。\n",
    "# 它非常像矩阵，但是它不是。\n",
    "exam = data.frame(\n",
    "    student_id = factor(as.character(c(45020, 45679, 46789, 43126, 42345, 47568, 45674))), \n",
    "    # as.character将数据类型转换为character\n",
    "    evaluated_W = c(30, 29, 30, NA, 25, 26, 17),\n",
    "    evaluation_O = c(28, 30, 30, NA, 28, 27, NA), \n",
    "    evaluation_P = c(30, 30, 30, 30, 28, 28, 28),\n",
    "    outcome = factor(c('Passed', 'Passed', 'Passed', 'To be repeated', 'Passed','Passed', 'To be repeated'))\n",
    ")\n",
    "exam\n",
    "# dbl 双精度浮点数"
   ]
  },
  {
   "cell_type": "code",
   "execution_count": null,
   "metadata": {
    "vscode": {
     "languageId": "r"
    }
   },
   "outputs": [],
   "source": [
    "exam[2, ] # 输出第二行所有信息"
   ]
  },
  {
   "cell_type": "code",
   "execution_count": null,
   "metadata": {
    "vscode": {
     "languageId": "r"
    }
   },
   "outputs": [],
   "source": [
    "# If we output `evaluated_W` directly, it won't work\n",
    "evaluated_W\n",
    "# Error: object 'evaluation_W' not found\n",
    "# But when we use `attach()`\n",
    "attach(exam)\n",
    "evaluated_W\n",
    "detach(exam)"
   ]
  },
  {
   "attachments": {},
   "cell_type": "markdown",
   "metadata": {},
   "source": [
    "### Part 3 Data Import/Export"
   ]
  },
  {
   "cell_type": "code",
   "execution_count": null,
   "metadata": {
    "vscode": {
     "languageId": "r"
    }
   },
   "outputs": [],
   "source": [
    "record = read.table('record.txt', header = T) # header = T 表示txt文件第一行为表格名称\n",
    "record"
   ]
  },
  {
   "cell_type": "code",
   "execution_count": null,
   "metadata": {
    "vscode": {
     "languageId": "r"
    }
   },
   "outputs": [],
   "source": [
    "head(record) # 显示该文本的前六行数据\n",
    "dim(record) # 显示该文本有多少行和列\n",
    "dimnames(record) # 显示该文本的所有行和列的名称 行为 [[1]] 列为 [[2]]"
   ]
  },
  {
   "cell_type": "code",
   "execution_count": null,
   "metadata": {
    "vscode": {
     "languageId": "r"
    }
   },
   "outputs": [],
   "source": [
    "# Transform times in seconds\n",
    "# m800开始时间单位变了\n",
    "record[, 4:7] = record[, 4:7] * 60 # m800 m1500 m3000 and marathon 单位不是秒\n",
    "head(record) # 显示该文本的前六行数据"
   ]
  },
  {
   "cell_type": "code",
   "execution_count": null,
   "metadata": {
    "vscode": {
     "languageId": "r"
    }
   },
   "outputs": [],
   "source": [
    "# We can save a data frame (or a matrix)\n",
    "write.table(record, file = 'record_mod.txt') # 将`record`数据写入一个名为`record_mod.txt`的文件中"
   ]
  },
  {
   "cell_type": "code",
   "execution_count": null,
   "metadata": {
    "vscode": {
     "languageId": "r"
    }
   },
   "outputs": [],
   "source": [
    "# to save several objects in the workspace\n",
    "W = matrix(data = c(11, 12, 13, 14, 15, 16), 2, 3)\n",
    "V = t(W)\n",
    "a = 1\n",
    "save(W, V, a, file = 'variousobjects.RData')\n",
    "# to save the entire workspace: save.image('FILENAME.RData')\n",
    "save.image(\"myworkspace.RData\")"
   ]
  },
  {
   "cell_type": "code",
   "execution_count": null,
   "metadata": {
    "vscode": {
     "languageId": "r"
    }
   },
   "outputs": [],
   "source": [
    "# this command remove all the variable of the workspace\n",
    "ls() # 列出当前所有变量"
   ]
  },
  {
   "cell_type": "code",
   "execution_count": null,
   "metadata": {
    "vscode": {
     "languageId": "r"
    }
   },
   "outputs": [],
   "source": [
    "rm(list=ls()) # remove所有变量"
   ]
  },
  {
   "attachments": {},
   "cell_type": "markdown",
   "metadata": {},
   "source": [
    "### Part 4 Visualization"
   ]
  },
  {
   "attachments": {},
   "cell_type": "markdown",
   "metadata": {},
   "source": [
    "#### 4.1 Example: analysis of quantitative data (with plots) "
   ]
  },
  {
   "cell_type": "code",
   "execution_count": 22,
   "metadata": {
    "vscode": {
     "languageId": "r"
    }
   },
   "outputs": [
    {
     "data": {
      "text/html": [
       "<table class=\"dataframe\">\n",
       "<caption>A data.frame: 6 × 7</caption>\n",
       "<thead>\n",
       "\t<tr><th></th><th scope=col>m100</th><th scope=col>m200</th><th scope=col>m400</th><th scope=col>m800</th><th scope=col>m1500</th><th scope=col>m3000</th><th scope=col>Marathon</th></tr>\n",
       "\t<tr><th></th><th scope=col>&lt;dbl&gt;</th><th scope=col>&lt;dbl&gt;</th><th scope=col>&lt;dbl&gt;</th><th scope=col>&lt;dbl&gt;</th><th scope=col>&lt;dbl&gt;</th><th scope=col>&lt;dbl&gt;</th><th scope=col>&lt;dbl&gt;</th></tr>\n",
       "</thead>\n",
       "<tbody>\n",
       "\t<tr><th scope=row>argentin</th><td>11.61</td><td>22.94</td><td>54.50</td><td>129.0</td><td>265.8</td><td>587.4</td><td>10711.2</td></tr>\n",
       "\t<tr><th scope=row>australi</th><td>11.20</td><td>22.35</td><td>51.08</td><td>118.8</td><td>247.8</td><td>544.8</td><td> 9142.2</td></tr>\n",
       "\t<tr><th scope=row>austria</th><td>11.43</td><td>23.09</td><td>50.62</td><td>119.4</td><td>253.2</td><td>560.4</td><td> 9562.2</td></tr>\n",
       "\t<tr><th scope=row>belgium</th><td>11.41</td><td>23.04</td><td>52.00</td><td>120.0</td><td>248.4</td><td>532.8</td><td> 9471.0</td></tr>\n",
       "\t<tr><th scope=row>bermuda</th><td>11.46</td><td>23.05</td><td>53.30</td><td>129.6</td><td>274.8</td><td>588.6</td><td>10198.8</td></tr>\n",
       "\t<tr><th scope=row>brazil</th><td>11.31</td><td>23.17</td><td>52.80</td><td>126.0</td><td>269.4</td><td>586.2</td><td>10125.0</td></tr>\n",
       "</tbody>\n",
       "</table>\n"
      ],
      "text/latex": [
       "A data.frame: 6 × 7\n",
       "\\begin{tabular}{r|lllllll}\n",
       "  & m100 & m200 & m400 & m800 & m1500 & m3000 & Marathon\\\\\n",
       "  & <dbl> & <dbl> & <dbl> & <dbl> & <dbl> & <dbl> & <dbl>\\\\\n",
       "\\hline\n",
       "\targentin & 11.61 & 22.94 & 54.50 & 129.0 & 265.8 & 587.4 & 10711.2\\\\\n",
       "\taustrali & 11.20 & 22.35 & 51.08 & 118.8 & 247.8 & 544.8 &  9142.2\\\\\n",
       "\taustria & 11.43 & 23.09 & 50.62 & 119.4 & 253.2 & 560.4 &  9562.2\\\\\n",
       "\tbelgium & 11.41 & 23.04 & 52.00 & 120.0 & 248.4 & 532.8 &  9471.0\\\\\n",
       "\tbermuda & 11.46 & 23.05 & 53.30 & 129.6 & 274.8 & 588.6 & 10198.8\\\\\n",
       "\tbrazil & 11.31 & 23.17 & 52.80 & 126.0 & 269.4 & 586.2 & 10125.0\\\\\n",
       "\\end{tabular}\n"
      ],
      "text/markdown": [
       "\n",
       "A data.frame: 6 × 7\n",
       "\n",
       "| <!--/--> | m100 &lt;dbl&gt; | m200 &lt;dbl&gt; | m400 &lt;dbl&gt; | m800 &lt;dbl&gt; | m1500 &lt;dbl&gt; | m3000 &lt;dbl&gt; | Marathon &lt;dbl&gt; |\n",
       "|---|---|---|---|---|---|---|---|\n",
       "| argentin | 11.61 | 22.94 | 54.50 | 129.0 | 265.8 | 587.4 | 10711.2 |\n",
       "| australi | 11.20 | 22.35 | 51.08 | 118.8 | 247.8 | 544.8 |  9142.2 |\n",
       "| austria | 11.43 | 23.09 | 50.62 | 119.4 | 253.2 | 560.4 |  9562.2 |\n",
       "| belgium | 11.41 | 23.04 | 52.00 | 120.0 | 248.4 | 532.8 |  9471.0 |\n",
       "| bermuda | 11.46 | 23.05 | 53.30 | 129.6 | 274.8 | 588.6 | 10198.8 |\n",
       "| brazil | 11.31 | 23.17 | 52.80 | 126.0 | 269.4 | 586.2 | 10125.0 |\n",
       "\n"
      ],
      "text/plain": [
       "         m100  m200  m400  m800  m1500 m3000 Marathon\n",
       "argentin 11.61 22.94 54.50 129.0 265.8 587.4 10711.2 \n",
       "australi 11.20 22.35 51.08 118.8 247.8 544.8  9142.2 \n",
       "austria  11.43 23.09 50.62 119.4 253.2 560.4  9562.2 \n",
       "belgium  11.41 23.04 52.00 120.0 248.4 532.8  9471.0 \n",
       "bermuda  11.46 23.05 53.30 129.6 274.8 588.6 10198.8 \n",
       "brazil   11.31 23.17 52.80 126.0 269.4 586.2 10125.0 "
      ]
     },
     "metadata": {},
     "output_type": "display_data"
    },
    {
     "data": {
      "text/html": [
       "<style>\n",
       ".dl-inline {width: auto; margin:0; padding: 0}\n",
       ".dl-inline>dt, .dl-inline>dd {float: none; width: auto; display: inline-block}\n",
       ".dl-inline>dt::after {content: \":\\0020\"; padding-right: .5ex}\n",
       ".dl-inline>dt:not(:first-of-type) {padding-left: .5ex}\n",
       "</style><dl class=dl-inline><dt>m100</dt><dd>11.6185454545455</dd><dt>m200</dt><dd>23.6416363636364</dd><dt>m400</dt><dd>53.4058181818182</dd><dt>m800</dt><dd>124.581818181818</dd><dt>m1500</dt><dd>259.527272727273</dd><dt>m3000</dt><dd>566.858181818182</dd><dt>Marathon</dt><dd>10395.1963636364</dd></dl>\n"
      ],
      "text/latex": [
       "\\begin{description*}\n",
       "\\item[m100] 11.6185454545455\n",
       "\\item[m200] 23.6416363636364\n",
       "\\item[m400] 53.4058181818182\n",
       "\\item[m800] 124.581818181818\n",
       "\\item[m1500] 259.527272727273\n",
       "\\item[m3000] 566.858181818182\n",
       "\\item[Marathon] 10395.1963636364\n",
       "\\end{description*}\n"
      ],
      "text/markdown": [
       "m100\n",
       ":   11.6185454545455m200\n",
       ":   23.6416363636364m400\n",
       ":   53.4058181818182m800\n",
       ":   124.581818181818m1500\n",
       ":   259.527272727273m3000\n",
       ":   566.858181818182Marathon\n",
       ":   10395.1963636364\n",
       "\n"
      ],
      "text/plain": [
       "       m100        m200        m400        m800       m1500       m3000 \n",
       "   11.61855    23.64164    53.40582   124.58182   259.52727   566.85818 \n",
       "   Marathon \n",
       "10395.19636 "
      ]
     },
     "metadata": {},
     "output_type": "display_data"
    },
    {
     "data": {
      "text/html": [
       "<style>\n",
       ".dl-inline {width: auto; margin:0; padding: 0}\n",
       ".dl-inline>dt, .dl-inline>dd {float: none; width: auto; display: inline-block}\n",
       ".dl-inline>dt::after {content: \":\\0020\"; padding-right: .5ex}\n",
       ".dl-inline>dt:not(:first-of-type) {padding-left: .5ex}\n",
       "</style><dl class=dl-inline><dt>m100</dt><dd>11.6185454545455</dd><dt>m200</dt><dd>23.6416363636364</dd><dt>m400</dt><dd>53.4058181818182</dd><dt>m800</dt><dd>124.581818181818</dd><dt>m1500</dt><dd>259.527272727273</dd><dt>m3000</dt><dd>566.858181818182</dd><dt>Marathon</dt><dd>10395.1963636364</dd></dl>\n"
      ],
      "text/latex": [
       "\\begin{description*}\n",
       "\\item[m100] 11.6185454545455\n",
       "\\item[m200] 23.6416363636364\n",
       "\\item[m400] 53.4058181818182\n",
       "\\item[m800] 124.581818181818\n",
       "\\item[m1500] 259.527272727273\n",
       "\\item[m3000] 566.858181818182\n",
       "\\item[Marathon] 10395.1963636364\n",
       "\\end{description*}\n"
      ],
      "text/markdown": [
       "m100\n",
       ":   11.6185454545455m200\n",
       ":   23.6416363636364m400\n",
       ":   53.4058181818182m800\n",
       ":   124.581818181818m1500\n",
       ":   259.527272727273m3000\n",
       ":   566.858181818182Marathon\n",
       ":   10395.1963636364\n",
       "\n"
      ],
      "text/plain": [
       "       m100        m200        m400        m800       m1500       m3000 \n",
       "   11.61855    23.64164    53.40582   124.58182   259.52727   566.85818 \n",
       "   Marathon \n",
       "10395.19636 "
      ]
     },
     "metadata": {},
     "output_type": "display_data"
    }
   ],
   "source": [
    "##### Example: analysis of quantitative data (with plots) \n",
    "record = read.table('record_mod.txt', header=T)\n",
    "head(record) # 显示该文本的前六行数据\n",
    "\n",
    "# some synthetic indices\n",
    "colMeans(record) # 这行代码计算数据框(record)每列的均值。\n",
    "# sapply(X, FUN, ...) 其中X是需要迭代的向量或列表，FUN是应用于每个元素的函数，...表示函数FUN的额外参数。sapply函数返回一个向量或矩阵，其中包含FUN应用于每个元素的结果。\n",
    "sapply(record, mean) # sapply函数计算数据框(record)每列的均值，结果与colMeans函数相同。"
   ]
  },
  {
   "cell_type": "code",
   "execution_count": 23,
   "metadata": {
    "vscode": {
     "languageId": "r"
    }
   },
   "outputs": [
    {
     "data": {
      "text/html": [
       "<style>\n",
       ".dl-inline {width: auto; margin:0; padding: 0}\n",
       ".dl-inline>dt, .dl-inline>dd {float: none; width: auto; display: inline-block}\n",
       ".dl-inline>dt::after {content: \":\\0020\"; padding-right: .5ex}\n",
       ".dl-inline>dt:not(:first-of-type) {padding-left: .5ex}\n",
       "</style><dl class=dl-inline><dt>m100</dt><dd>0.452210284507265</dd><dt>m200</dt><dd>1.11106016044798</dd><dt>m400</dt><dd>2.67833674957197</dd><dt>m800</dt><dd>6.49344657981018</dd><dt>m1500</dt><dd>19.9455318912342</dd><dt>m3000</dt><dd>49.4601474099924</dd><dt>Marathon</dt><dd>1825.7726950693</dd></dl>\n"
      ],
      "text/latex": [
       "\\begin{description*}\n",
       "\\item[m100] 0.452210284507265\n",
       "\\item[m200] 1.11106016044798\n",
       "\\item[m400] 2.67833674957197\n",
       "\\item[m800] 6.49344657981018\n",
       "\\item[m1500] 19.9455318912342\n",
       "\\item[m3000] 49.4601474099924\n",
       "\\item[Marathon] 1825.7726950693\n",
       "\\end{description*}\n"
      ],
      "text/markdown": [
       "m100\n",
       ":   0.452210284507265m200\n",
       ":   1.11106016044798m400\n",
       ":   2.67833674957197m800\n",
       ":   6.49344657981018m1500\n",
       ":   19.9455318912342m3000\n",
       ":   49.4601474099924Marathon\n",
       ":   1825.7726950693\n",
       "\n"
      ],
      "text/plain": [
       "        m100         m200         m400         m800        m1500        m3000 \n",
       "   0.4522103    1.1110602    2.6783367    6.4934466   19.9455319   49.4601474 \n",
       "    Marathon \n",
       "1825.7726951 "
      ]
     },
     "metadata": {},
     "output_type": "display_data"
    }
   ],
   "source": [
    "sapply(record, sd) # 使用sapply函数计算数据框(record)每列的标准差。"
   ]
  },
  {
   "cell_type": "code",
   "execution_count": 24,
   "metadata": {
    "vscode": {
     "languageId": "r"
    }
   },
   "outputs": [
    {
     "data": {
      "text/html": [
       "<style>\n",
       ".dl-inline {width: auto; margin:0; padding: 0}\n",
       ".dl-inline>dt, .dl-inline>dd {float: none; width: auto; display: inline-block}\n",
       ".dl-inline>dt::after {content: \":\\0020\"; padding-right: .5ex}\n",
       ".dl-inline>dt:not(:first-of-type) {padding-left: .5ex}\n",
       "</style><dl class=dl-inline><dt>m100</dt><dd>0.204494141414141</dd><dt>m200</dt><dd>1.23445468013468</dd><dt>m400</dt><dd>7.17348774410774</dd><dt>m800</dt><dd>42.1648484848485</dd><dt>m1500</dt><dd>397.824242424242</dd><dt>m3000</dt><dd>2446.30618181818</dd><dt>Marathon</dt><dd>3333445.93406061</dd></dl>\n"
      ],
      "text/latex": [
       "\\begin{description*}\n",
       "\\item[m100] 0.204494141414141\n",
       "\\item[m200] 1.23445468013468\n",
       "\\item[m400] 7.17348774410774\n",
       "\\item[m800] 42.1648484848485\n",
       "\\item[m1500] 397.824242424242\n",
       "\\item[m3000] 2446.30618181818\n",
       "\\item[Marathon] 3333445.93406061\n",
       "\\end{description*}\n"
      ],
      "text/markdown": [
       "m100\n",
       ":   0.204494141414141m200\n",
       ":   1.23445468013468m400\n",
       ":   7.17348774410774m800\n",
       ":   42.1648484848485m1500\n",
       ":   397.824242424242m3000\n",
       ":   2446.30618181818Marathon\n",
       ":   3333445.93406061\n",
       "\n"
      ],
      "text/plain": [
       "        m100         m200         m400         m800        m1500        m3000 \n",
       "2.044941e-01 1.234455e+00 7.173488e+00 4.216485e+01 3.978242e+02 2.446306e+03 \n",
       "    Marathon \n",
       "3.333446e+06 "
      ]
     },
     "metadata": {},
     "output_type": "display_data"
    }
   ],
   "source": [
    "sapply(record, var) # 使用sapply函数计算数据框(record)每列的方差。"
   ]
  },
  {
   "cell_type": "code",
   "execution_count": 25,
   "metadata": {
    "vscode": {
     "languageId": "r"
    }
   },
   "outputs": [
    {
     "data": {
      "text/html": [
       "<table class=\"dataframe\">\n",
       "<caption>A matrix: 7 × 7 of type dbl</caption>\n",
       "<thead>\n",
       "\t<tr><th></th><th scope=col>m100</th><th scope=col>m200</th><th scope=col>m400</th><th scope=col>m800</th><th scope=col>m1500</th><th scope=col>m3000</th><th scope=col>Marathon</th></tr>\n",
       "</thead>\n",
       "<tbody>\n",
       "\t<tr><th scope=row>m100</th><td>  0.2044941</td><td>   0.4787135</td><td>   1.010955</td><td>   2.136788</td><td>    6.569596</td><td>   16.58912</td><td>    566.6616</td></tr>\n",
       "\t<tr><th scope=row>m200</th><td>  0.4787135</td><td>   1.2344547</td><td>   2.550142</td><td>   5.223808</td><td>   15.476232</td><td>   39.00968</td><td>   1390.7176</td></tr>\n",
       "\t<tr><th scope=row>m400</th><td>  1.0109549</td><td>   2.5501422</td><td>   7.173488</td><td>  15.624737</td><td>   42.087172</td><td>  103.01428</td><td>   3449.5477</td></tr>\n",
       "\t<tr><th scope=row>m800</th><td>  2.1367879</td><td>   5.2238081</td><td>  15.624737</td><td>  42.164848</td><td>  116.772727</td><td>  277.34848</td><td>   9238.9436</td></tr>\n",
       "\t<tr><th scope=row>m1500</th><td>  6.5695960</td><td>  15.4762323</td><td>  42.087172</td><td> 116.772727</td><td>  397.824242</td><td>  956.09394</td><td>  31970.8279</td></tr>\n",
       "\t<tr><th scope=row>m3000</th><td> 16.5891232</td><td>  39.0096808</td><td> 103.014285</td><td> 277.348485</td><td>  956.093939</td><td> 2446.30618</td><td>  81258.0017</td></tr>\n",
       "\t<tr><th scope=row>Marathon</th><td>566.6616242</td><td>1390.7175616</td><td>3449.547725</td><td>9238.943636</td><td>31970.827879</td><td>81258.00170</td><td>3333445.9341</td></tr>\n",
       "</tbody>\n",
       "</table>\n"
      ],
      "text/latex": [
       "A matrix: 7 × 7 of type dbl\n",
       "\\begin{tabular}{r|lllllll}\n",
       "  & m100 & m200 & m400 & m800 & m1500 & m3000 & Marathon\\\\\n",
       "\\hline\n",
       "\tm100 &   0.2044941 &    0.4787135 &    1.010955 &    2.136788 &     6.569596 &    16.58912 &     566.6616\\\\\n",
       "\tm200 &   0.4787135 &    1.2344547 &    2.550142 &    5.223808 &    15.476232 &    39.00968 &    1390.7176\\\\\n",
       "\tm400 &   1.0109549 &    2.5501422 &    7.173488 &   15.624737 &    42.087172 &   103.01428 &    3449.5477\\\\\n",
       "\tm800 &   2.1367879 &    5.2238081 &   15.624737 &   42.164848 &   116.772727 &   277.34848 &    9238.9436\\\\\n",
       "\tm1500 &   6.5695960 &   15.4762323 &   42.087172 &  116.772727 &   397.824242 &   956.09394 &   31970.8279\\\\\n",
       "\tm3000 &  16.5891232 &   39.0096808 &  103.014285 &  277.348485 &   956.093939 &  2446.30618 &   81258.0017\\\\\n",
       "\tMarathon & 566.6616242 & 1390.7175616 & 3449.547725 & 9238.943636 & 31970.827879 & 81258.00170 & 3333445.9341\\\\\n",
       "\\end{tabular}\n"
      ],
      "text/markdown": [
       "\n",
       "A matrix: 7 × 7 of type dbl\n",
       "\n",
       "| <!--/--> | m100 | m200 | m400 | m800 | m1500 | m3000 | Marathon |\n",
       "|---|---|---|---|---|---|---|---|\n",
       "| m100 |   0.2044941 |    0.4787135 |    1.010955 |    2.136788 |     6.569596 |    16.58912 |     566.6616 |\n",
       "| m200 |   0.4787135 |    1.2344547 |    2.550142 |    5.223808 |    15.476232 |    39.00968 |    1390.7176 |\n",
       "| m400 |   1.0109549 |    2.5501422 |    7.173488 |   15.624737 |    42.087172 |   103.01428 |    3449.5477 |\n",
       "| m800 |   2.1367879 |    5.2238081 |   15.624737 |   42.164848 |   116.772727 |   277.34848 |    9238.9436 |\n",
       "| m1500 |   6.5695960 |   15.4762323 |   42.087172 |  116.772727 |   397.824242 |   956.09394 |   31970.8279 |\n",
       "| m3000 |  16.5891232 |   39.0096808 |  103.014285 |  277.348485 |   956.093939 |  2446.30618 |   81258.0017 |\n",
       "| Marathon | 566.6616242 | 1390.7175616 | 3449.547725 | 9238.943636 | 31970.827879 | 81258.00170 | 3333445.9341 |\n",
       "\n"
      ],
      "text/plain": [
       "         m100        m200         m400        m800        m1500       \n",
       "m100       0.2044941    0.4787135    1.010955    2.136788     6.569596\n",
       "m200       0.4787135    1.2344547    2.550142    5.223808    15.476232\n",
       "m400       1.0109549    2.5501422    7.173488   15.624737    42.087172\n",
       "m800       2.1367879    5.2238081   15.624737   42.164848   116.772727\n",
       "m1500      6.5695960   15.4762323   42.087172  116.772727   397.824242\n",
       "m3000     16.5891232   39.0096808  103.014285  277.348485   956.093939\n",
       "Marathon 566.6616242 1390.7175616 3449.547725 9238.943636 31970.827879\n",
       "         m3000       Marathon    \n",
       "m100        16.58912     566.6616\n",
       "m200        39.00968    1390.7176\n",
       "m400       103.01428    3449.5477\n",
       "m800       277.34848    9238.9436\n",
       "m1500      956.09394   31970.8279\n",
       "m3000     2446.30618   81258.0017\n",
       "Marathon 81258.00170 3333445.9341"
      ]
     },
     "metadata": {},
     "output_type": "display_data"
    }
   ],
   "source": [
    "cov(record) # 计算数据框(record)中每对变量之间的协方差矩阵。"
   ]
  },
  {
   "cell_type": "code",
   "execution_count": 26,
   "metadata": {
    "vscode": {
     "languageId": "r"
    }
   },
   "outputs": [
    {
     "data": {
      "text/html": [
       "<table class=\"dataframe\">\n",
       "<caption>A matrix: 7 × 7 of type dbl</caption>\n",
       "<thead>\n",
       "\t<tr><th></th><th scope=col>m100</th><th scope=col>m200</th><th scope=col>m400</th><th scope=col>m800</th><th scope=col>m1500</th><th scope=col>m3000</th><th scope=col>Marathon</th></tr>\n",
       "</thead>\n",
       "<tbody>\n",
       "\t<tr><th scope=row>m100</th><td>1.0000000</td><td>0.9527911</td><td>0.8346918</td><td>0.7276888</td><td>0.7283709</td><td>0.7416988</td><td>0.6863358</td></tr>\n",
       "\t<tr><th scope=row>m200</th><td>0.9527911</td><td>1.0000000</td><td>0.8569621</td><td>0.7240597</td><td>0.6983643</td><td>0.7098710</td><td>0.6855745</td></tr>\n",
       "\t<tr><th scope=row>m400</th><td>0.8346918</td><td>0.8569621</td><td>1.0000000</td><td>0.8984052</td><td>0.7878417</td><td>0.7776369</td><td>0.7054241</td></tr>\n",
       "\t<tr><th scope=row>m800</th><td>0.7276888</td><td>0.7240597</td><td>0.8984052</td><td>1.0000000</td><td>0.9016138</td><td>0.8635652</td><td>0.7792922</td></tr>\n",
       "\t<tr><th scope=row>m1500</th><td>0.7283709</td><td>0.6983643</td><td>0.7878417</td><td>0.9016138</td><td>1.0000000</td><td>0.9691690</td><td>0.8779334</td></tr>\n",
       "\t<tr><th scope=row>m3000</th><td>0.7416988</td><td>0.7098710</td><td>0.7776369</td><td>0.8635652</td><td>0.9691690</td><td>1.0000000</td><td>0.8998374</td></tr>\n",
       "\t<tr><th scope=row>Marathon</th><td>0.6863358</td><td>0.6855745</td><td>0.7054241</td><td>0.7792922</td><td>0.8779334</td><td>0.8998374</td><td>1.0000000</td></tr>\n",
       "</tbody>\n",
       "</table>\n"
      ],
      "text/latex": [
       "A matrix: 7 × 7 of type dbl\n",
       "\\begin{tabular}{r|lllllll}\n",
       "  & m100 & m200 & m400 & m800 & m1500 & m3000 & Marathon\\\\\n",
       "\\hline\n",
       "\tm100 & 1.0000000 & 0.9527911 & 0.8346918 & 0.7276888 & 0.7283709 & 0.7416988 & 0.6863358\\\\\n",
       "\tm200 & 0.9527911 & 1.0000000 & 0.8569621 & 0.7240597 & 0.6983643 & 0.7098710 & 0.6855745\\\\\n",
       "\tm400 & 0.8346918 & 0.8569621 & 1.0000000 & 0.8984052 & 0.7878417 & 0.7776369 & 0.7054241\\\\\n",
       "\tm800 & 0.7276888 & 0.7240597 & 0.8984052 & 1.0000000 & 0.9016138 & 0.8635652 & 0.7792922\\\\\n",
       "\tm1500 & 0.7283709 & 0.6983643 & 0.7878417 & 0.9016138 & 1.0000000 & 0.9691690 & 0.8779334\\\\\n",
       "\tm3000 & 0.7416988 & 0.7098710 & 0.7776369 & 0.8635652 & 0.9691690 & 1.0000000 & 0.8998374\\\\\n",
       "\tMarathon & 0.6863358 & 0.6855745 & 0.7054241 & 0.7792922 & 0.8779334 & 0.8998374 & 1.0000000\\\\\n",
       "\\end{tabular}\n"
      ],
      "text/markdown": [
       "\n",
       "A matrix: 7 × 7 of type dbl\n",
       "\n",
       "| <!--/--> | m100 | m200 | m400 | m800 | m1500 | m3000 | Marathon |\n",
       "|---|---|---|---|---|---|---|---|\n",
       "| m100 | 1.0000000 | 0.9527911 | 0.8346918 | 0.7276888 | 0.7283709 | 0.7416988 | 0.6863358 |\n",
       "| m200 | 0.9527911 | 1.0000000 | 0.8569621 | 0.7240597 | 0.6983643 | 0.7098710 | 0.6855745 |\n",
       "| m400 | 0.8346918 | 0.8569621 | 1.0000000 | 0.8984052 | 0.7878417 | 0.7776369 | 0.7054241 |\n",
       "| m800 | 0.7276888 | 0.7240597 | 0.8984052 | 1.0000000 | 0.9016138 | 0.8635652 | 0.7792922 |\n",
       "| m1500 | 0.7283709 | 0.6983643 | 0.7878417 | 0.9016138 | 1.0000000 | 0.9691690 | 0.8779334 |\n",
       "| m3000 | 0.7416988 | 0.7098710 | 0.7776369 | 0.8635652 | 0.9691690 | 1.0000000 | 0.8998374 |\n",
       "| Marathon | 0.6863358 | 0.6855745 | 0.7054241 | 0.7792922 | 0.8779334 | 0.8998374 | 1.0000000 |\n",
       "\n"
      ],
      "text/plain": [
       "         m100      m200      m400      m800      m1500     m3000     Marathon \n",
       "m100     1.0000000 0.9527911 0.8346918 0.7276888 0.7283709 0.7416988 0.6863358\n",
       "m200     0.9527911 1.0000000 0.8569621 0.7240597 0.6983643 0.7098710 0.6855745\n",
       "m400     0.8346918 0.8569621 1.0000000 0.8984052 0.7878417 0.7776369 0.7054241\n",
       "m800     0.7276888 0.7240597 0.8984052 1.0000000 0.9016138 0.8635652 0.7792922\n",
       "m1500    0.7283709 0.6983643 0.7878417 0.9016138 1.0000000 0.9691690 0.8779334\n",
       "m3000    0.7416988 0.7098710 0.7776369 0.8635652 0.9691690 1.0000000 0.8998374\n",
       "Marathon 0.6863358 0.6855745 0.7054241 0.7792922 0.8779334 0.8998374 1.0000000"
      ]
     },
     "metadata": {},
     "output_type": "display_data"
    }
   ],
   "source": [
    "cor(record) # 计算数据框(record)中每对变量之间的相关系数矩阵。"
   ]
  },
  {
   "attachments": {},
   "cell_type": "markdown",
   "metadata": {},
   "source": [
    "#### 4.2 Descriptive/inferential analysis on the variable m100 ('very basic'!)"
   ]
  },
  {
   "cell_type": "code",
   "execution_count": 27,
   "metadata": {
    "vscode": {
     "languageId": "r"
    }
   },
   "outputs": [
    {
     "data": {
      "image/png": "[encoded data removed]",
      "text/plain": [
       "Plot with title \"Normal Q-Q Plot\""
      ]
     },
     "metadata": {
      "image/png": {
       "height": 420,
       "width": 420
      }
     },
     "output_type": "display_data"
    }
   ],
   "source": [
    "attach(record)\n",
    "\n",
    "### t-test for the mean value of the quantity \n",
    "### H0: mean == 11.5 vs H1: mean != 11.5\n",
    "\n",
    "# Recall: qqplot to verify (qualitatively) the Gaussian assumption on the distribution generating sample;\n",
    "# qqplot是一种用于检查数据是否符合正态分布的图形方法。\n",
    "\n",
    "qqnorm(m100) # quantile-quantile plot 分位数-分位数图\n",
    "qqline(m100, col='red') # theoretical line"
   ]
  },
  {
   "cell_type": "code",
   "execution_count": 28,
   "metadata": {
    "vscode": {
     "languageId": "r"
    }
   },
   "outputs": [
    {
     "data": {
      "text/plain": [
       "\n",
       "\tShapiro-Wilk normality test\n",
       "\n",
       "data:  m100\n",
       "W = 0.97326, p-value = 0.2569\n"
      ]
     },
     "metadata": {},
     "output_type": "display_data"
    }
   ],
   "source": [
    "# 还有另一种方法\n",
    "# Shapiro-Wilk test to verify (quantitatively) the Gaussian assumption on the distribution generating sample\n",
    "shapiro.test(m100)\n",
    "# 由于p值大于0.05，因此H0成立。"
   ]
  },
  {
   "cell_type": "code",
   "execution_count": 29,
   "metadata": {
    "vscode": {
     "languageId": "r"
    }
   },
   "outputs": [
    {
     "data": {
      "text/plain": [
       "\n",
       "\tOne Sample t-test\n",
       "\n",
       "data:  m100\n",
       "t = 1.9441, df = 54, p-value = 0.0571\n",
       "alternative hypothesis: true mean is not equal to 11.5\n",
       "95 percent confidence interval:\n",
       " 11.4963 11.7408\n",
       "sample estimates:\n",
       "mean of x \n",
       " 11.61855 \n"
      ]
     },
     "metadata": {},
     "output_type": "display_data"
    }
   ],
   "source": [
    "alpha = 0.05\n",
    "mean.H0 = 11.5\n",
    "\n",
    "# automatically\n",
    "# m100为需要检测的数据；mu为H0假设均值；alternative为备择假设的类型；置信水平默认为0.95\n",
    "t.test(m100, mu = mean.H0, alternative = 'two.sided', conf.level = 1-alpha)"
   ]
  },
  {
   "cell_type": "code",
   "execution_count": 30,
   "metadata": {
    "vscode": {
     "languageId": "r"
    }
   },
   "outputs": [
    {
     "data": {
      "text/html": [
       "1.94413230033017"
      ],
      "text/latex": [
       "1.94413230033017"
      ],
      "text/markdown": [
       "1.94413230033017"
      ],
      "text/plain": [
       "[1] 1.944132"
      ]
     },
     "metadata": {},
     "output_type": "display_data"
    }
   ],
   "source": [
    "# manually\n",
    "sample.mean = mean(m100)\n",
    "sample.sd = sd(m100)\n",
    "n = length(m100)\n",
    "\n",
    "# 这个公式是用来计算t检验的检验统计量（t值）的。\n",
    "# 其中，sample.mean表示样本的均值，mean.H0表示零假设的均值，sample.sd表示样本的标准差，n表示样本大小。\n",
    "# 这个公式的意义是，将样本均值与零假设的均值之差除以标准误差，其中标准误差等于样本标准差除以样本大小的平方根。这个结果代表了样本均值与零假设的差异程度，如果t值越大，代表差异越大，支持拒绝零假设的假设。\n",
    "tstat = (sample.mean - mean.H0) / (sample.sd / sqrt(n))\n",
    "tstat"
   ]
  },
  {
   "cell_type": "code",
   "execution_count": 31,
   "metadata": {
    "vscode": {
     "languageId": "r"
    }
   },
   "outputs": [
    {
     "data": {
      "text/html": [
       "2.00487928818806"
      ],
      "text/latex": [
       "2.00487928818806"
      ],
      "text/markdown": [
       "2.00487928818806"
      ],
      "text/plain": [
       "[1] 2.004879"
      ]
     },
     "metadata": {},
     "output_type": "display_data"
    }
   ],
   "source": [
    "# t分位数是指t分布中，使得累积分布函数的值为给定置信水平（例如95%）的那个数。\n",
    "# 在统计推断中，t分位数常用于构建置信区间，以确定样本均值的不确定性范围。\n",
    "\n",
    "# 对于给定的置信水平和自由度，t分布的形状和位置是固定的，\n",
    "# 因此可以通过查找t分布表或使用R语言的qt函数来计算t分位数。例如，qt(0.975, df)表示自由度为df的t分布中，累积分布函数的值为0.975的t值。\n",
    "\n",
    "# t分位数的大小取决于置信水平和自由度。\n",
    "# 在置信水平相同的情况下，自由度越大，t分位数越小，即样本均值与总体均值之间的差异越小，可信度越高。\n",
    "# 同样，在自由度相同的情况下，置信水平越高，t分位数越大，即要求置信度越高，需要更大的差异才能拒绝零假设。\n",
    "\n",
    "# 自由度是指用于衡量样本数据集的独立性和变异性的数量。在t检验中，自由度用于描述t分布的形状和位置。\n",
    "# 在一次单样本t检验中，自由度通常定义为样本大小减去1，即 n-1。\n",
    "# 在两个样本t检验中，自由度为 n1+n2-2\n",
    "cfr.t = qt(1 - alpha/2, n-1) #1-0.05/2=0.975\n",
    "cfr.t"
   ]
  },
  {
   "cell_type": "code",
   "execution_count": 32,
   "metadata": {
    "vscode": {
     "languageId": "r"
    }
   },
   "outputs": [
    {
     "data": {
      "text/html": [
       "TRUE"
      ],
      "text/latex": [
       "TRUE"
      ],
      "text/markdown": [
       "TRUE"
      ],
      "text/plain": [
       "[1] TRUE"
      ]
     },
     "metadata": {},
     "output_type": "display_data"
    }
   ],
   "source": [
    "# 比较t值的绝对值和双侧置信区间的t分位数的大小，如果t值的绝对值小于置信区间的t分位数，则无法拒绝零假设，否则拒绝零假设。\n",
    "abs(tstat) < cfr.t  # cannot reject H0 (accept H0)"
   ]
  },
  {
   "cell_type": "code",
   "execution_count": 33,
   "metadata": {
    "vscode": {
     "languageId": "r"
    }
   },
   "outputs": [
    {
     "data": {
      "text/html": [
       "0.0570970174933925"
      ],
      "text/latex": [
       "0.0570970174933925"
      ],
      "text/markdown": [
       "0.0570970174933925"
      ],
      "text/plain": [
       "[1] 0.05709702"
      ]
     },
     "metadata": {},
     "output_type": "display_data"
    }
   ],
   "source": [
    "# 计算t检验的p值。\n",
    "\n",
    "# 如果tstat大于等于0，则计算的是双侧检验的p值，公式为(1 - pt(tstat, n-1)) * 2。\n",
    "# 其中pt()是t分布的累积分布函数（CDF），它计算给定t值和自由度的t分布累积概率密度。\n",
    "# 因此，1 - pt(tstat, n-1)给出了t分布右侧的概率密度，再乘以2则得到了双侧检验的p值。\n",
    "# 如果tstat小于0，则计算的也是双侧检验的p值，公式为pt(tstat, n-1) * 2。\n",
    "# 其中pt()函数同上，但是这次计算的是t分布左侧的概率密度，再乘以2则得到了双侧检验的p值。\n",
    "\n",
    "# ifelse(condition, true_val, false_val)\n",
    "# 其中，condition是一个逻辑表达式，如果为TRUE，则返回true_val，否则返回false_val。\n",
    "pval  = ifelse(tstat >= 0, (1 - pt(tstat, n-1))*2, pt(tstat, n-1)*2)\n",
    "pval"
   ]
  },
  {
   "cell_type": "code",
   "execution_count": 34,
   "metadata": {
    "vscode": {
     "languageId": "r"
    }
   },
   "outputs": [
    {
     "data": {
      "text/html": [
       "<style>\n",
       ".dl-inline {width: auto; margin:0; padding: 0}\n",
       ".dl-inline>dt, .dl-inline>dd {float: none; width: auto; display: inline-block}\n",
       ".dl-inline>dt::after {content: \":\\0020\"; padding-right: .5ex}\n",
       ".dl-inline>dt:not(:first-of-type) {padding-left: .5ex}\n",
       "</style><dl class=dl-inline><dt>inf</dt><dd>11.4962958903123</dd><dt>center</dt><dd>11.6185454545455</dd><dt>sup</dt><dd>11.7407950187786</dd></dl>\n"
      ],
      "text/latex": [
       "\\begin{description*}\n",
       "\\item[inf] 11.4962958903123\n",
       "\\item[center] 11.6185454545455\n",
       "\\item[sup] 11.7407950187786\n",
       "\\end{description*}\n"
      ],
      "text/markdown": [
       "inf\n",
       ":   11.4962958903123center\n",
       ":   11.6185454545455sup\n",
       ":   11.7407950187786\n",
       "\n"
      ],
      "text/plain": [
       "     inf   center      sup \n",
       "11.49630 11.61855 11.74080 "
      ]
     },
     "metadata": {},
     "output_type": "display_data"
    }
   ],
   "source": [
    "# 在统计学中，置信区间（Confidence Interval，CI）是指对总体参数的一个区间估计，该区间可能包含未知参数的真实值，也可能不包含。\n",
    "\n",
    "# 代码中，IC是一个长度为3的向量，表示样本均值的置信区间。IC向量的三个元素分别表示：\n",
    "        # inf：置信区间的下限，即样本均值的下限估计值；\n",
    "        # center：置信区间的中心，即样本均值的估计值；\n",
    "        # sup：置信区间的上限，即样本均值的上限估计值。\n",
    "IC =  c(inf     = sample.mean - sample.sd / sqrt(n) * qt(1 - alpha/2, n-1), \n",
    "        center  = sample.mean, \n",
    "        sup     = sample.mean + sample.sd / sqrt(n) * qt(1 - alpha/2, n-1))\n",
    "IC"
   ]
  },
  {
   "attachments": {},
   "cell_type": "markdown",
   "metadata": {},
   "source": [
    "#### 4.3 Simple linear regression (variable m200 vs m100)"
   ]
  },
  {
   "cell_type": "code",
   "execution_count": 36,
   "metadata": {
    "vscode": {
     "languageId": "r"
    }
   },
   "outputs": [
    {
     "data": {
      "image/png": "[encoded data removed]",
      "text/plain": [
       "Plot with title \"Scatter plot records 100m e 200m\""
      ]
     },
     "metadata": {
      "image/png": {
       "height": 420,
       "width": 420
      }
     },
     "output_type": "display_data"
    }
   ],
   "source": [
    "# More than one plot in a unique device (commands par or layout) (command par)\n",
    "# x11() #juypter里就不用x11()了\n",
    "\n",
    "par(mfrow=c(2, 2)) # 子图 2×2\n",
    "\n",
    "# prob=T 表示要对纵轴进行标准化，将频数转换为概率密度，使得纵轴的范围在0到1之间。\n",
    "hist(m100, prob=T, main=\"Histogram records 100m\", xlab=\"sec\")\n",
    "hist(m200, prob=T, main=\"Histogram records 200m\", xlab=\"sec\")\n",
    "\n",
    "boxplot(record[,1:2], main=\"Boxplot records 100m and 200m\", ylab=\"sec\")\n",
    "\n",
    "plot(m100, m200, main='Scatter plot records 100m e 200m', xlab=\"Records 100m\", ylab=\"Records 200m\")"
   ]
  },
  {
   "cell_type": "code",
   "execution_count": 37,
   "metadata": {
    "vscode": {
     "languageId": "r"
    }
   },
   "outputs": [
    {
     "data": {
      "image/png": "[encoded data removed]",
      "text/plain": [
       "Plot with title \"Histogram of m200\""
      ]
     },
     "metadata": {
      "image/png": {
       "height": 420,
       "width": 420
      }
     },
     "output_type": "display_data"
    }
   ],
   "source": [
    "# x11()\n",
    "# layout() 函数用于设置绘图布局。\n",
    "# cbind(c(1, 1), c(2, 3)) 表示将绘图区域分为两行两列，其中相同数字代表同一张图\n",
    "# 1 2\n",
    "# 1 3\n",
    "# widths=c(2, 1) 表示设置第一列的宽度为第二列的两倍。\n",
    "# heights=c(1, 1) 表示设置每行的高度为1。\n",
    "layout(cbind(c(1, 1), c(2, 3)), widths=c(2, 1), heights=c(1, 1))\n",
    "\n",
    "plot(m100, m200) # 绘制m100和m200的散点图\n",
    "hist(m100, prob=T) # 绘制m100的直方图\n",
    "hist(m200, prob=T) # 绘制m200的直方图"
   ]
  },
  {
   "cell_type": "code",
   "execution_count": 38,
   "metadata": {
    "vscode": {
     "languageId": "r"
    }
   },
   "outputs": [
    {
     "data": {
      "text/plain": [
       "\n",
       "Call:\n",
       "lm(formula = m200 ~ m100)\n",
       "\n",
       "Coefficients:\n",
       "(Intercept)         m100  \n",
       "     -3.557        2.341  \n"
      ]
     },
     "metadata": {},
     "output_type": "display_data"
    }
   ],
   "source": [
    "# Fit of the linear model (command lm)\n",
    "# Model: m200 = beta0 + beta1 * m100 + eps, eps ~ N(0, sigma^2)\n",
    "# 使用线性回归模型 lm() 对两个变量 m200 和 m100 进行建模。\n",
    "# m100 是自变量，也称为解释变量或预测变量，而 m200 是因变量，也称为响应变量或目标变量。\n",
    "regression = lm(m200 ~ m100)\n",
    "regression\n",
    "\n",
    "# 回归系数是 2.341，表示当 m100 的值增加 1 个单位时，m200 的平均值会增加 2.341 个单位，\n",
    "# 而截距为 -3.557，表示当 m100 的值为 0 时，m200 的平均值为 -3.557。"
   ]
  },
  {
   "cell_type": "code",
   "execution_count": 43,
   "metadata": {
    "vscode": {
     "languageId": "r"
    }
   },
   "outputs": [
    {
     "data": {
      "text/plain": [
       "\n",
       "Call:\n",
       "lm(formula = m200 ~ m100)\n",
       "\n",
       "Residuals:\n",
       "     Min       1Q   Median       3Q      Max \n",
       "-0.86303 -0.16559 -0.00756  0.16599  1.10722 \n",
       "\n",
       "Coefficients:\n",
       "            Estimate Std. Error t value Pr(>|t|)    \n",
       "(Intercept)  -3.5570     1.1914  -2.985  0.00428 ** \n",
       "m100          2.3410     0.1025  22.845  < 2e-16 ***\n",
       "---\n",
       "Signif. codes:  0 '***' 0.001 '**' 0.01 '*' 0.05 '.' 0.1 ' ' 1\n",
       "\n",
       "Residual standard error: 0.3405 on 53 degrees of freedom\n",
       "Multiple R-squared:  0.9078,\tAdjusted R-squared:  0.9061 \n",
       "F-statistic: 521.9 on 1 and 53 DF,  p-value: < 2.2e-16\n"
      ]
     },
     "metadata": {},
     "output_type": "display_data"
    }
   ],
   "source": [
    "summary(regression)"
   ]
  },
  {
   "cell_type": "code",
   "execution_count": 44,
   "metadata": {
    "vscode": {
     "languageId": "r"
    }
   },
   "outputs": [
    {
     "data": {
      "text/html": [
       "<style>\n",
       ".dl-inline {width: auto; margin:0; padding: 0}\n",
       ".dl-inline>dt, .dl-inline>dd {float: none; width: auto; display: inline-block}\n",
       ".dl-inline>dt::after {content: \":\\0020\"; padding-right: .5ex}\n",
       ".dl-inline>dt:not(:first-of-type) {padding-left: .5ex}\n",
       "</style><dl class=dl-inline><dt>(Intercept)</dt><dd>-3.55696664644759</dd><dt>m100</dt><dd>2.34096454814343</dd></dl>\n"
      ],
      "text/latex": [
       "\\begin{description*}\n",
       "\\item[(Intercept)] -3.55696664644759\n",
       "\\item[m100] 2.34096454814343\n",
       "\\end{description*}\n"
      ],
      "text/markdown": [
       "(Intercept)\n",
       ":   -3.55696664644759m100\n",
       ":   2.34096454814343\n",
       "\n"
      ],
      "text/plain": [
       "(Intercept)        m100 \n",
       "  -3.556967    2.340965 "
      ]
     },
     "metadata": {},
     "output_type": "display_data"
    }
   ],
   "source": [
    "coef(regression) # 提取线性回归模型的系数（截距和斜率）。"
   ]
  },
  {
   "cell_type": "code",
   "execution_count": 45,
   "metadata": {
    "vscode": {
     "languageId": "r"
    }
   },
   "outputs": [
    {
     "data": {
      "text/html": [
       "<table class=\"dataframe\">\n",
       "<caption>A matrix: 2 × 2 of type dbl</caption>\n",
       "<thead>\n",
       "\t<tr><th></th><th scope=col>(Intercept)</th><th scope=col>m100</th></tr>\n",
       "</thead>\n",
       "<tbody>\n",
       "\t<tr><th scope=row>(Intercept)</th><td> 1.4195378</td><td>-0.12199717</td></tr>\n",
       "\t<tr><th scope=row>m100</th><td>-0.1219972</td><td> 0.01050021</td></tr>\n",
       "</tbody>\n",
       "</table>\n"
      ],
      "text/latex": [
       "A matrix: 2 × 2 of type dbl\n",
       "\\begin{tabular}{r|ll}\n",
       "  & (Intercept) & m100\\\\\n",
       "\\hline\n",
       "\t(Intercept) &  1.4195378 & -0.12199717\\\\\n",
       "\tm100 & -0.1219972 &  0.01050021\\\\\n",
       "\\end{tabular}\n"
      ],
      "text/markdown": [
       "\n",
       "A matrix: 2 × 2 of type dbl\n",
       "\n",
       "| <!--/--> | (Intercept) | m100 |\n",
       "|---|---|---|\n",
       "| (Intercept) |  1.4195378 | -0.12199717 |\n",
       "| m100 | -0.1219972 |  0.01050021 |\n",
       "\n"
      ],
      "text/plain": [
       "            (Intercept) m100       \n",
       "(Intercept)  1.4195378  -0.12199717\n",
       "m100        -0.1219972   0.01050021"
      ]
     },
     "metadata": {},
     "output_type": "display_data"
    }
   ],
   "source": [
    "vcov(regression) # 计算线性回归模型的方差协方差矩阵。 variance-covariance"
   ]
  },
  {
   "cell_type": "code",
   "execution_count": 46,
   "metadata": {
    "vscode": {
     "languageId": "r"
    }
   },
   "outputs": [
    {
     "data": {
      "text/html": [
       "<style>\n",
       ".dl-inline {width: auto; margin:0; padding: 0}\n",
       ".dl-inline>dt, .dl-inline>dd {float: none; width: auto; display: inline-block}\n",
       ".dl-inline>dt::after {content: \":\\0020\"; padding-right: .5ex}\n",
       ".dl-inline>dt:not(:first-of-type) {padding-left: .5ex}\n",
       "</style><dl class=dl-inline><dt>1</dt><dd>-0.681631757497692</dd><dt>2</dt><dd>-0.311836292758873</dd><dt>3</dt><dd>-0.110258138831864</dd><dt>4</dt><dd>-0.113438847868998</dd><dt>5</dt><dd>-0.220487075276169</dd><dt>6</dt><dd>0.250657606945348</dd><dt>7</dt><dd>-0.392342968013706</dd><dt>8</dt><dd>0.0563566168698116</dd><dt>9</dt><dd>-0.0146079312736229</dd><dt>10</dt><dd>-0.00755970386644905</dd><dt>11</dt><dd>0.401777887983752</dd><dt>12</dt><dd>0.458523975397287</dd><dt>13</dt><dd>0.159030650652114</dd><dt>14</dt><dd>-0.434330192463098</dd><dt>15</dt><dd>0.343151506649569</dd><dt>16</dt><dd>0.00699462383650142</dd><dt>17</dt><dd>-0.107968774388836</dd><dt>18</dt><dd>0.0452119346482955</dd><dt>19</dt><dd>-0.0388601189829363</dd><dt>20</dt><dd>0.172946971388378</dd><dt>21</dt><dd>-0.0636433831301894</dd><dt>22</dt><dd>0.036994623836499</dd><dt>23</dt><dd>0.379946396429327</dd><dt>24</dt><dd>-0.187077429794733</dd><dt>25</dt><dd>-0.137559703866448</dd><dt>26</dt><dd>0.0565367509478919</dd><dt>27</dt><dd>0.309741861168137</dd><dt>28</dt><dd>0.322922570205268</dd><dt>29</dt><dd>0.127476897908218</dd><dt>30</dt><dd>0.0974524967251037</dd><dt>31</dt><dd>-0.0225475032748973</dd><dt>32</dt><dd>0.0490306506521113</dd><dt>33</dt><dd>0.66015093169052</dd><dt>34</dt><dd>0.355163132282077</dd><dt>35</dt><dd>-0.863029777346612</dd><dt>36</dt><dd>1.1072235602808</dd><dt>37</dt><dd>-0.657101830977845</dd><dt>38</dt><dd>0.0311154798339517</dd><dt>39</dt><dd>-0.35117388460908</dd><dt>40</dt><dd>-0.241402821053382</dd><dt>41</dt><dd>-0.0498490683094809</dd><dt>42</dt><dd>-0.432776439719199</dd><dt>43</dt><dd>-0.287968774388836</dd><dt>44</dt><dd>0.130175332873628</dd><dt>45</dt><dd>0.236332215686703</dd><dt>46</dt><dd>-0.236897295716654</dd><dt>47</dt><dd>-0.0864150216449369</dd><dt>48</dt><dd>0.251802289166862</dd><dt>49</dt><dd>0.0629225702052667</dd><dt>50</dt><dd>-0.0886555837217444</dd><dt>51</dt><dd>0.510633205762237</dd><dt>52</dt><dd>-0.0477886403107535</dd><dt>53</dt><dd>0.127959171979933</dd><dt>54</dt><dd>-0.144101256018794</dd><dt>55</dt><dd>-0.416921696899763</dd></dl>\n"
      ],
      "text/latex": [
       "\\begin{description*}\n",
       "\\item[1] -0.681631757497692\n",
       "\\item[2] -0.311836292758873\n",
       "\\item[3] -0.110258138831864\n",
       "\\item[4] -0.113438847868998\n",
       "\\item[5] -0.220487075276169\n",
       "\\item[6] 0.250657606945348\n",
       "\\item[7] -0.392342968013706\n",
       "\\item[8] 0.0563566168698116\n",
       "\\item[9] -0.0146079312736229\n",
       "\\item[10] -0.00755970386644905\n",
       "\\item[11] 0.401777887983752\n",
       "\\item[12] 0.458523975397287\n",
       "\\item[13] 0.159030650652114\n",
       "\\item[14] -0.434330192463098\n",
       "\\item[15] 0.343151506649569\n",
       "\\item[16] 0.00699462383650142\n",
       "\\item[17] -0.107968774388836\n",
       "\\item[18] 0.0452119346482955\n",
       "\\item[19] -0.0388601189829363\n",
       "\\item[20] 0.172946971388378\n",
       "\\item[21] -0.0636433831301894\n",
       "\\item[22] 0.036994623836499\n",
       "\\item[23] 0.379946396429327\n",
       "\\item[24] -0.187077429794733\n",
       "\\item[25] -0.137559703866448\n",
       "\\item[26] 0.0565367509478919\n",
       "\\item[27] 0.309741861168137\n",
       "\\item[28] 0.322922570205268\n",
       "\\item[29] 0.127476897908218\n",
       "\\item[30] 0.0974524967251037\n",
       "\\item[31] -0.0225475032748973\n",
       "\\item[32] 0.0490306506521113\n",
       "\\item[33] 0.66015093169052\n",
       "\\item[34] 0.355163132282077\n",
       "\\item[35] -0.863029777346612\n",
       "\\item[36] 1.1072235602808\n",
       "\\item[37] -0.657101830977845\n",
       "\\item[38] 0.0311154798339517\n",
       "\\item[39] -0.35117388460908\n",
       "\\item[40] -0.241402821053382\n",
       "\\item[41] -0.0498490683094809\n",
       "\\item[42] -0.432776439719199\n",
       "\\item[43] -0.287968774388836\n",
       "\\item[44] 0.130175332873628\n",
       "\\item[45] 0.236332215686703\n",
       "\\item[46] -0.236897295716654\n",
       "\\item[47] -0.0864150216449369\n",
       "\\item[48] 0.251802289166862\n",
       "\\item[49] 0.0629225702052667\n",
       "\\item[50] -0.0886555837217444\n",
       "\\item[51] 0.510633205762237\n",
       "\\item[52] -0.0477886403107535\n",
       "\\item[53] 0.127959171979933\n",
       "\\item[54] -0.144101256018794\n",
       "\\item[55] -0.416921696899763\n",
       "\\end{description*}\n"
      ],
      "text/markdown": [
       "1\n",
       ":   -0.6816317574976922\n",
       ":   -0.3118362927588733\n",
       ":   -0.1102581388318644\n",
       ":   -0.1134388478689985\n",
       ":   -0.2204870752761696\n",
       ":   0.2506576069453487\n",
       ":   -0.3923429680137068\n",
       ":   0.05635661686981169\n",
       ":   -0.014607931273622910\n",
       ":   -0.0075597038664490511\n",
       ":   0.40177788798375212\n",
       ":   0.45852397539728713\n",
       ":   0.15903065065211414\n",
       ":   -0.43433019246309815\n",
       ":   0.34315150664956916\n",
       ":   0.0069946238365014217\n",
       ":   -0.10796877438883618\n",
       ":   0.045211934648295519\n",
       ":   -0.038860118982936320\n",
       ":   0.17294697138837821\n",
       ":   -0.063643383130189422\n",
       ":   0.03699462383649923\n",
       ":   0.37994639642932724\n",
       ":   -0.18707742979473325\n",
       ":   -0.13755970386644826\n",
       ":   0.056536750947891927\n",
       ":   0.30974186116813728\n",
       ":   0.32292257020526829\n",
       ":   0.12747689790821830\n",
       ":   0.097452496725103731\n",
       ":   -0.022547503274897332\n",
       ":   0.049030650652111333\n",
       ":   0.6601509316905234\n",
       ":   0.35516313228207735\n",
       ":   -0.86302977734661236\n",
       ":   1.107223560280837\n",
       ":   -0.65710183097784538\n",
       ":   0.031115479833951739\n",
       ":   -0.3511738846090840\n",
       ":   -0.24140282105338241\n",
       ":   -0.049849068309480942\n",
       ":   -0.43277643971919943\n",
       ":   -0.28796877438883644\n",
       ":   0.13017533287362845\n",
       ":   0.23633221568670346\n",
       ":   -0.23689729571665447\n",
       ":   -0.086415021644936948\n",
       ":   0.25180228916686249\n",
       ":   0.062922570205266750\n",
       ":   -0.088655583721744451\n",
       ":   0.51063320576223752\n",
       ":   -0.047788640310753553\n",
       ":   0.12795917197993354\n",
       ":   -0.14410125601879455\n",
       ":   -0.416921696899763\n",
       "\n"
      ],
      "text/plain": [
       "           1            2            3            4            5            6 \n",
       "-0.681631757 -0.311836293 -0.110258139 -0.113438848 -0.220487075  0.250657607 \n",
       "           7            8            9           10           11           12 \n",
       "-0.392342968  0.056356617 -0.014607931 -0.007559704  0.401777888  0.458523975 \n",
       "          13           14           15           16           17           18 \n",
       " 0.159030651 -0.434330192  0.343151507  0.006994624 -0.107968774  0.045211935 \n",
       "          19           20           21           22           23           24 \n",
       "-0.038860119  0.172946971 -0.063643383  0.036994624  0.379946396 -0.187077430 \n",
       "          25           26           27           28           29           30 \n",
       "-0.137559704  0.056536751  0.309741861  0.322922570  0.127476898  0.097452497 \n",
       "          31           32           33           34           35           36 \n",
       "-0.022547503  0.049030651  0.660150932  0.355163132 -0.863029777  1.107223560 \n",
       "          37           38           39           40           41           42 \n",
       "-0.657101831  0.031115480 -0.351173885 -0.241402821 -0.049849068 -0.432776440 \n",
       "          43           44           45           46           47           48 \n",
       "-0.287968774  0.130175333  0.236332216 -0.236897296 -0.086415022  0.251802289 \n",
       "          49           50           51           52           53           54 \n",
       " 0.062922570 -0.088655584  0.510633206 -0.047788640  0.127959172 -0.144101256 \n",
       "          55 \n",
       "-0.416921697 "
      ]
     },
     "metadata": {},
     "output_type": "display_data"
    }
   ],
   "source": [
    "residuals(regression) # 提取线性回归模型的残差。"
   ]
  },
  {
   "cell_type": "code",
   "execution_count": 47,
   "metadata": {
    "vscode": {
     "languageId": "r"
    }
   },
   "outputs": [
    {
     "data": {
      "text/html": [
       "<style>\n",
       ".dl-inline {width: auto; margin:0; padding: 0}\n",
       ".dl-inline>dt, .dl-inline>dd {float: none; width: auto; display: inline-block}\n",
       ".dl-inline>dt::after {content: \":\\0020\"; padding-right: .5ex}\n",
       ".dl-inline>dt:not(:first-of-type) {padding-left: .5ex}\n",
       "</style><dl class=dl-inline><dt>1</dt><dd>23.6216317574977</dd><dt>2</dt><dd>22.6618362927589</dd><dt>3</dt><dd>23.2002581388319</dd><dt>4</dt><dd>23.153438847869</dd><dt>5</dt><dd>23.2704870752762</dd><dt>6</dt><dd>22.9193423930547</dd><dt>7</dt><dd>24.8623429680137</dd><dt>8</dt><dd>22.1936433831302</dd><dt>9</dt><dd>24.5346079312736</dd><dt>10</dt><dd>24.4175597038664</dd><dt>11</dt><dd>23.5982221120162</dd><dt>12</dt><dd>26.6414760246027</dd><dt>13</dt><dd>24.4409693493479</dd><dt>14</dt><dd>22.4043301924631</dd><dt>15</dt><dd>23.1768484933504</dd><dt>16</dt><dd>24.0430053761635</dd><dt>17</dt><dd>22.4979687743888</dd><dt>18</dt><dd>22.5447880653517</dd><dt>19</dt><dd>21.7488601189829</dd><dt>20</dt><dd>22.2170530286116</dd><dt>21</dt><dd>22.1936433831302</dd><dt>22</dt><dd>24.0430053761635</dd><dt>23</dt><dd>24.1600536035707</dd><dt>24</dt><dd>23.2470774297947</dd><dt>25</dt><dd>24.4175597038664</dd><dt>26</dt><dd>24.1834632490521</dd><dt>27</dt><dd>23.2002581388319</dd><dt>28</dt><dd>23.2470774297947</dd><dt>29</dt><dd>22.8725231020918</dd><dt>30</dt><dd>23.9025475032749</dd><dt>31</dt><dd>23.9025475032749</dd><dt>32</dt><dd>24.4409693493479</dd><dt>33</dt><dd>25.1198490683095</dd><dt>34</dt><dd>24.6048368677179</dd><dt>35</dt><dd>25.0730297773466</dd><dt>36</dt><dd>23.9727764397192</dd><dt>37</dt><dd>24.2771018309778</dd><dt>38</dt><dd>22.778884520166</dd><dt>39</dt><dd>23.4811738846091</dd><dt>40</dt><dd>23.5514028210534</dd><dt>41</dt><dd>25.1198490683095</dd><dt>42</dt><dd>23.9727764397192</dd><dt>43</dt><dd>22.4979687743888</dd><dt>44</dt><dd>24.0898246671264</dd><dt>45</dt><dd>23.2236677843133</dd><dt>46</dt><dd>25.2368972957167</dd><dt>47</dt><dd>24.0664150216449</dd><dt>48</dt><dd>22.5681977108331</dd><dt>49</dt><dd>23.2470774297947</dd><dt>50</dt><dd>22.7086555837217</dd><dt>51</dt><dd>23.9493667942378</dd><dt>52</dt><dd>24.4877886403108</dd><dt>53</dt><dd>21.7020408280201</dd><dt>54</dt><dd>22.3341012560188</dd><dt>55</dt><dd>26.2669216968998</dd></dl>\n"
      ],
      "text/latex": [
       "\\begin{description*}\n",
       "\\item[1] 23.6216317574977\n",
       "\\item[2] 22.6618362927589\n",
       "\\item[3] 23.2002581388319\n",
       "\\item[4] 23.153438847869\n",
       "\\item[5] 23.2704870752762\n",
       "\\item[6] 22.9193423930547\n",
       "\\item[7] 24.8623429680137\n",
       "\\item[8] 22.1936433831302\n",
       "\\item[9] 24.5346079312736\n",
       "\\item[10] 24.4175597038664\n",
       "\\item[11] 23.5982221120162\n",
       "\\item[12] 26.6414760246027\n",
       "\\item[13] 24.4409693493479\n",
       "\\item[14] 22.4043301924631\n",
       "\\item[15] 23.1768484933504\n",
       "\\item[16] 24.0430053761635\n",
       "\\item[17] 22.4979687743888\n",
       "\\item[18] 22.5447880653517\n",
       "\\item[19] 21.7488601189829\n",
       "\\item[20] 22.2170530286116\n",
       "\\item[21] 22.1936433831302\n",
       "\\item[22] 24.0430053761635\n",
       "\\item[23] 24.1600536035707\n",
       "\\item[24] 23.2470774297947\n",
       "\\item[25] 24.4175597038664\n",
       "\\item[26] 24.1834632490521\n",
       "\\item[27] 23.2002581388319\n",
       "\\item[28] 23.2470774297947\n",
       "\\item[29] 22.8725231020918\n",
       "\\item[30] 23.9025475032749\n",
       "\\item[31] 23.9025475032749\n",
       "\\item[32] 24.4409693493479\n",
       "\\item[33] 25.1198490683095\n",
       "\\item[34] 24.6048368677179\n",
       "\\item[35] 25.0730297773466\n",
       "\\item[36] 23.9727764397192\n",
       "\\item[37] 24.2771018309778\n",
       "\\item[38] 22.778884520166\n",
       "\\item[39] 23.4811738846091\n",
       "\\item[40] 23.5514028210534\n",
       "\\item[41] 25.1198490683095\n",
       "\\item[42] 23.9727764397192\n",
       "\\item[43] 22.4979687743888\n",
       "\\item[44] 24.0898246671264\n",
       "\\item[45] 23.2236677843133\n",
       "\\item[46] 25.2368972957167\n",
       "\\item[47] 24.0664150216449\n",
       "\\item[48] 22.5681977108331\n",
       "\\item[49] 23.2470774297947\n",
       "\\item[50] 22.7086555837217\n",
       "\\item[51] 23.9493667942378\n",
       "\\item[52] 24.4877886403108\n",
       "\\item[53] 21.7020408280201\n",
       "\\item[54] 22.3341012560188\n",
       "\\item[55] 26.2669216968998\n",
       "\\end{description*}\n"
      ],
      "text/markdown": [
       "1\n",
       ":   23.62163175749772\n",
       ":   22.66183629275893\n",
       ":   23.20025813883194\n",
       ":   23.1534388478695\n",
       ":   23.27048707527626\n",
       ":   22.91934239305477\n",
       ":   24.86234296801378\n",
       ":   22.19364338313029\n",
       ":   24.534607931273610\n",
       ":   24.417559703866411\n",
       ":   23.598222112016212\n",
       ":   26.641476024602713\n",
       ":   24.440969349347914\n",
       ":   22.404330192463115\n",
       ":   23.176848493350416\n",
       ":   24.043005376163517\n",
       ":   22.497968774388818\n",
       ":   22.544788065351719\n",
       ":   21.748860118982920\n",
       ":   22.217053028611621\n",
       ":   22.193643383130222\n",
       ":   24.043005376163523\n",
       ":   24.160053603570724\n",
       ":   23.247077429794725\n",
       ":   24.417559703866426\n",
       ":   24.183463249052127\n",
       ":   23.200258138831928\n",
       ":   23.247077429794729\n",
       ":   22.872523102091830\n",
       ":   23.902547503274931\n",
       ":   23.902547503274932\n",
       ":   24.440969349347933\n",
       ":   25.119849068309534\n",
       ":   24.604836867717935\n",
       ":   25.073029777346636\n",
       ":   23.972776439719237\n",
       ":   24.277101830977838\n",
       ":   22.77888452016639\n",
       ":   23.481173884609140\n",
       ":   23.551402821053441\n",
       ":   25.119849068309542\n",
       ":   23.972776439719243\n",
       ":   22.497968774388844\n",
       ":   24.089824667126445\n",
       ":   23.223667784313346\n",
       ":   25.236897295716747\n",
       ":   24.066415021644948\n",
       ":   22.568197710833149\n",
       ":   23.247077429794750\n",
       ":   22.708655583721751\n",
       ":   23.949366794237852\n",
       ":   24.487788640310853\n",
       ":   21.702040828020154\n",
       ":   22.334101256018855\n",
       ":   26.2669216968998\n",
       "\n"
      ],
      "text/plain": [
       "       1        2        3        4        5        6        7        8 \n",
       "23.62163 22.66184 23.20026 23.15344 23.27049 22.91934 24.86234 22.19364 \n",
       "       9       10       11       12       13       14       15       16 \n",
       "24.53461 24.41756 23.59822 26.64148 24.44097 22.40433 23.17685 24.04301 \n",
       "      17       18       19       20       21       22       23       24 \n",
       "22.49797 22.54479 21.74886 22.21705 22.19364 24.04301 24.16005 23.24708 \n",
       "      25       26       27       28       29       30       31       32 \n",
       "24.41756 24.18346 23.20026 23.24708 22.87252 23.90255 23.90255 24.44097 \n",
       "      33       34       35       36       37       38       39       40 \n",
       "25.11985 24.60484 25.07303 23.97278 24.27710 22.77888 23.48117 23.55140 \n",
       "      41       42       43       44       45       46       47       48 \n",
       "25.11985 23.97278 22.49797 24.08982 23.22367 25.23690 24.06642 22.56820 \n",
       "      49       50       51       52       53       54       55 \n",
       "23.24708 22.70866 23.94937 24.48779 21.70204 22.33410 26.26692 "
      ]
     },
     "metadata": {},
     "output_type": "display_data"
    }
   ],
   "source": [
    "fitted(regression) # 提取线性回归模型的拟合值。"
   ]
  },
  {
   "cell_type": "code",
   "execution_count": 64,
   "metadata": {
    "vscode": {
     "languageId": "r"
    }
   },
   "outputs": [
    {
     "data": {
      "image/png": "[encoded data removed]",
      "text/plain": [
       "Plot with title \"Linear regression (m200 vs m100)\""
      ]
     },
     "metadata": {
      "image/png": {
       "height": 420,
       "width": 420
      }
     },
     "output_type": "display_data"
    }
   ],
   "source": [
    "# x11()\n",
    "\n",
    "# 绘制散点图,其中 m100 和 m200 分别是自变量和因变量；asp=1 表示在绘制时保持横纵坐标比例一致，cex=0.75 表示缩小点的大小。\n",
    "plot(m100, m200, asp=1, cex=0.75)\n",
    "\n",
    "abline(coef(regression)) # 散点图上添加回归线，其中 coef(regression) 返回回归模型的系数，包括截距和自变量系数。\n",
    "\n",
    "points(m100, fitted(regression), col='red', pch=19) # 绘制拟合数据 \n",
    "\n",
    "legend(\n",
    "  'bottomright',\n",
    "  c('Obs.', 'Fit', 'Reg. line'), #legend各名称\n",
    "  col = c('black', 'red', 'black'), # legend各名称颜色\n",
    "  lwd = c(1, 1, 1), # line width 线宽\n",
    "  lty = c(-1, -1, 1), # line type 线类型 -1代表圆点 1代表实现\n",
    "  pch = c(c(1, 19, -1)) # legend各名称符号 1是空心圆 19是实心圆 -1是没圆    invisible\n",
    ")\n",
    "\n",
    "title(main='Linear regression (m200 vs m100)')"
   ]
  },
  {
   "cell_type": "code",
   "execution_count": 66,
   "metadata": {
    "vscode": {
     "languageId": "r"
    }
   },
   "outputs": [
    {
     "data": {
      "text/html": [
       "60.5151764088678"
      ],
      "text/latex": [
       "60.5151764088678"
      ],
      "text/markdown": [
       "60.5151764088678"
      ],
      "text/plain": [
       "[1] 60.51518"
      ]
     },
     "metadata": {},
     "output_type": "display_data"
    }
   ],
   "source": [
    "# Test F \"by hand\" (H0: beta1=0 vs H1: beta1!=0)\n",
    "\n",
    "# 计算线性回归模型中的回归平方和（sum of squares due to regression）\n",
    "SSreg = sum((fitted(regression) - mean(m200))^2)\n",
    "SSreg"
   ]
  },
  {
   "cell_type": "code",
   "execution_count": 67,
   "metadata": {
    "vscode": {
     "languageId": "r"
    }
   },
   "outputs": [
    {
     "data": {
      "text/html": [
       "6.14537631840484"
      ],
      "text/latex": [
       "6.14537631840484"
      ],
      "text/markdown": [
       "6.14537631840484"
      ],
      "text/plain": [
       "[1] 6.145376"
      ]
     },
     "metadata": {},
     "output_type": "display_data"
    }
   ],
   "source": [
    "# 残差平方和越小，说明回归直线越能解释响应变量的变异，回归模型越好。\n",
    "SSres = sum(residuals(regression)^2)\n",
    "SSres"
   ]
  },
  {
   "cell_type": "code",
   "execution_count": 68,
   "metadata": {
    "vscode": {
     "languageId": "r"
    }
   },
   "outputs": [
    {
     "data": {
      "text/html": [
       "66.6605527272727"
      ],
      "text/latex": [
       "66.6605527272727"
      ],
      "text/markdown": [
       "66.6605527272727"
      ],
      "text/plain": [
       "[1] 66.66055"
      ]
     },
     "metadata": {},
     "output_type": "display_data"
    }
   ],
   "source": [
    "# 总离差平方和（total sum of squares\n",
    "SStot = sum((m200 - mean(m200))^2)\n",
    "SStot"
   ]
  },
  {
   "cell_type": "code",
   "execution_count": null,
   "metadata": {
    "vscode": {
     "languageId": "r"
    }
   },
   "outputs": [],
   "source": [
    "# 回归平方和（SSreg）表示模型的解释能力，即模型中独立变量（m100）所 解释 的因变量（m200）变异部分的平方和。\n",
    "# 残差平方和（SSres）表示模型未能解释的部分，即模型中 未被独立变量所解释 的因变量的变异部分的平方和。\n",
    "# 总离差平方和（SStot）表示因变量（m200）的变异总和，可以理解为 所有数据点 离总体均值的偏差平方和。"
   ]
  },
  {
   "cell_type": "code",
   "execution_count": 69,
   "metadata": {
    "vscode": {
     "languageId": "r"
    }
   },
   "outputs": [
    {
     "data": {
      "text/html": [
       "0"
      ],
      "text/latex": [
       "0"
      ],
      "text/markdown": [
       "0"
      ],
      "text/plain": [
       "[1] 0"
      ]
     },
     "metadata": {},
     "output_type": "display_data"
    }
   ],
   "source": [
    "n = length(m200)\n",
    "\n",
    "# 这段代码计算的是简单线性回归模型的F统计量，用于检验模型的拟合优度是否显著\n",
    "# Fstat 表示F统计量，是回归平方和与残差平方和的比值，度量回归平方和在总平方和中所占的比例，即模型对总变异的解释能力。其分布服从自由度为1（回归平方和）和n-2（残差平方和）的F分布。\n",
    "# 通过计算F统计量，可以判断模型的拟合优度是否显著，即模型是否能够显著解释数据的变异程度。如果F值较大，且p值较小（通常显著性水平取0.05），则拒绝原假设，认为模型的拟合优度显著。反之，不能拒绝原假设，认为模型的拟合优度不显著。\n",
    "\n",
    "# pf() 函数是用于计算 F 分布的累积分布函数（Cumulative Distribution Function, CDF）。\n",
    "# F 分布通常用于检验两个或多个总体方差是否相等。\n",
    "# Fstat 是计算得到的 F 统计量；1 表示 F 分布的自由度分子；而 n-2 表示 F 分布的自由度分母。\n",
    "# 其中自由度分母通常是样本总体个数减去2，因为我们用样本均值估计总体均值损失了2个自由度。\n",
    "Fstat = (SSreg/1) / (SSres/(n-2))\n",
    "P = 1 - pf(Fstat, 1, n-2)\n",
    "P # reject H0\n",
    "# 即 总体方差不相等"
   ]
  },
  {
   "cell_type": "code",
   "execution_count": 70,
   "metadata": {
    "vscode": {
     "languageId": "r"
    }
   },
   "outputs": [
    {
     "data": {
      "text/html": [
       "<style>\n",
       ".dl-inline {width: auto; margin:0; padding: 0}\n",
       ".dl-inline>dt, .dl-inline>dd {float: none; width: auto; display: inline-block}\n",
       ".dl-inline>dt::after {content: \":\\0020\"; padding-right: .5ex}\n",
       ".dl-inline>dt:not(:first-of-type) {padding-left: .5ex}\n",
       "</style><dl class=dl-inline><dt>1</dt><dd>19.8526788349868</dd><dt>2</dt><dd>22.1936433831302</dd><dt>3</dt><dd>24.5346079312736</dd></dl>\n"
      ],
      "text/latex": [
       "\\begin{description*}\n",
       "\\item[1] 19.8526788349868\n",
       "\\item[2] 22.1936433831302\n",
       "\\item[3] 24.5346079312736\n",
       "\\end{description*}\n"
      ],
      "text/markdown": [
       "1\n",
       ":   19.85267883498682\n",
       ":   22.19364338313023\n",
       ":   24.5346079312736\n",
       "\n"
      ],
      "text/plain": [
       "       1        2        3 \n",
       "19.85268 22.19364 24.53461 "
      ]
     },
     "metadata": {},
     "output_type": "display_data"
    }
   ],
   "source": [
    "# Confidence and prediction intervals (command predict)\n",
    "\n",
    "newdata = data.frame(m100=c(10, 11, 12))\n",
    "\n",
    "# 函数 predict() 的第一个参数是拟合好的线性回归模型 regression，第二个参数是新的数据集 newdata。\n",
    "# 函数默认返回预测值\n",
    "pred_nd = predict(regression, newdata)\n",
    "pred_nd"
   ]
  },
  {
   "cell_type": "code",
   "execution_count": 73,
   "metadata": {
    "vscode": {
     "languageId": "r"
    }
   },
   "outputs": [
    {
     "data": {
      "text/html": [
       "<table class=\"dataframe\">\n",
       "<caption>A matrix: 3 × 3 of type dbl</caption>\n",
       "<thead>\n",
       "\t<tr><th></th><th scope=col>fit</th><th scope=col>lwr</th><th scope=col>upr</th></tr>\n",
       "</thead>\n",
       "<tbody>\n",
       "\t<tr><th scope=row>1</th><td>19.85268</td><td>19.39288</td><td>20.31248</td></tr>\n",
       "\t<tr><th scope=row>2</th><td>22.19364</td><td>21.98453</td><td>22.40276</td></tr>\n",
       "\t<tr><th scope=row>3</th><td>24.53461</td><td>24.37350</td><td>24.69572</td></tr>\n",
       "</tbody>\n",
       "</table>\n"
      ],
      "text/latex": [
       "A matrix: 3 × 3 of type dbl\n",
       "\\begin{tabular}{r|lll}\n",
       "  & fit & lwr & upr\\\\\n",
       "\\hline\n",
       "\t1 & 19.85268 & 19.39288 & 20.31248\\\\\n",
       "\t2 & 22.19364 & 21.98453 & 22.40276\\\\\n",
       "\t3 & 24.53461 & 24.37350 & 24.69572\\\\\n",
       "\\end{tabular}\n"
      ],
      "text/markdown": [
       "\n",
       "A matrix: 3 × 3 of type dbl\n",
       "\n",
       "| <!--/--> | fit | lwr | upr |\n",
       "|---|---|---|---|\n",
       "| 1 | 19.85268 | 19.39288 | 20.31248 |\n",
       "| 2 | 22.19364 | 21.98453 | 22.40276 |\n",
       "| 3 | 24.53461 | 24.37350 | 24.69572 |\n",
       "\n"
      ],
      "text/plain": [
       "  fit      lwr      upr     \n",
       "1 19.85268 19.39288 20.31248\n",
       "2 22.19364 21.98453 22.40276\n",
       "3 24.53461 24.37350 24.69572"
      ]
     },
     "metadata": {},
     "output_type": "display_data"
    },
    {
     "data": {
      "text/html": [
       "<table class=\"dataframe\">\n",
       "<caption>A matrix: 3 × 3 of type dbl</caption>\n",
       "<thead>\n",
       "\t<tr><th></th><th scope=col>fit</th><th scope=col>lwr</th><th scope=col>upr</th></tr>\n",
       "</thead>\n",
       "<tbody>\n",
       "\t<tr><th scope=row>1</th><td>19.85268</td><td>18.83330</td><td>20.87206</td></tr>\n",
       "\t<tr><th scope=row>2</th><td>22.19364</td><td>21.26013</td><td>23.12716</td></tr>\n",
       "\t<tr><th scope=row>3</th><td>24.53461</td><td>23.61066</td><td>25.45856</td></tr>\n",
       "</tbody>\n",
       "</table>\n"
      ],
      "text/latex": [
       "A matrix: 3 × 3 of type dbl\n",
       "\\begin{tabular}{r|lll}\n",
       "  & fit & lwr & upr\\\\\n",
       "\\hline\n",
       "\t1 & 19.85268 & 18.83330 & 20.87206\\\\\n",
       "\t2 & 22.19364 & 21.26013 & 23.12716\\\\\n",
       "\t3 & 24.53461 & 23.61066 & 25.45856\\\\\n",
       "\\end{tabular}\n"
      ],
      "text/markdown": [
       "\n",
       "A matrix: 3 × 3 of type dbl\n",
       "\n",
       "| <!--/--> | fit | lwr | upr |\n",
       "|---|---|---|---|\n",
       "| 1 | 19.85268 | 18.83330 | 20.87206 |\n",
       "| 2 | 22.19364 | 21.26013 | 23.12716 |\n",
       "| 3 | 24.53461 | 23.61066 | 25.45856 |\n",
       "\n"
      ],
      "text/plain": [
       "  fit      lwr      upr     \n",
       "1 19.85268 18.83330 20.87206\n",
       "2 22.19364 21.26013 23.12716\n",
       "3 24.53461 23.61066 25.45856"
      ]
     },
     "metadata": {},
     "output_type": "display_data"
    }
   ],
   "source": [
    "# 函数默认返回预测值，但是可以使用可选参数 interval 来返回置信区间或预测区间。\n",
    "IC_nd = predict(regression, newdata, interval='confidence', level=.99)\n",
    "IC_nd\n",
    "\n",
    "IP_nd = predict(regression, newdata, interval='prediction', level=.99)\n",
    "IP_nd"
   ]
  },
  {
   "cell_type": "code",
   "execution_count": 81,
   "metadata": {
    "vscode": {
     "languageId": "r"
    }
   },
   "outputs": [
    {
     "data": {
      "image/png": "[encoded data removed]",
      "text/plain": [
       "Plot with title \"Linear regression (m200 vs m100)\""
      ]
     },
     "metadata": {
      "image/png": {
       "height": 420,
       "width": 420
      }
     },
     "output_type": "display_data"
    }
   ],
   "source": [
    "# x11()\n",
    "# m100和m200的散点图，图像比例1:1 y轴范围18.5:27.5，点缩放系数0.5\n",
    "plot(m100, m200, asp=1, ylim=c(18.5, 27.5), cex=0.5)\n",
    "abline(coef(regression)) # 回归线\n",
    "points(m100, fitted(regression), col='red', pch=20) # 拟合数据集\n",
    "\n",
    "points(c(10, 11, 12), pred_nd, col='blue', pch=16) # newdata\n",
    "\n",
    "\n",
    "# t(IP_nd[, -1]) 是预测区间的上下界限线矩阵，用 type=\"l\" 表示绘制折线， lty=2 表示线型为虚线\n",
    "# matlines作用是在图形上添加预测区间的界限线。\n",
    "# 其中，rbind(c(10, 11, 12), c(10, 11, 12)) 将两个长度为3的向量按行绑定成一个矩阵，\n",
    "# 这里的目的是将两个预测区间的界限线放在同一个图形上。\n",
    "matlines(rbind(c(10, 11, 12), c(10, 11, 12)), t(IP_nd[, -1]), type=\"l\", lty=2, col='dark grey', lwd=2)\n",
    "\n",
    "# matpoints：用于在上下界的交点处画出垂直于x轴的线段，即“十字架”，参数意义与matlines类似，pch为点的样式，这里用-表示，lty、col和lwd分别表示线段样式、颜色和宽度，cex为线段的长度倍数。\n",
    "matpoints(rbind(c(10, 11, 12), c(10, 11, 12)), t(IP_nd[, -1]), pch=\"-\", lty=2, col='dark grey', lwd=2, cex=1.5)\n",
    "\n",
    "\n",
    "matlines(rbind(c(10, 11, 12), c(10, 11, 12)), t(IC_nd[, -1]), type=\"l\", lty=1,\n",
    "         col='black', lwd=2)\n",
    "matpoints(rbind(c(10, 11, 12), c(10, 11, 12)), t(IC_nd[, -1]), pch=\"-\", lty=1,\n",
    "          col='black', lwd=2, cex=1.5)\n",
    "\n",
    "\n",
    "legend(\n",
    "  'bottomright',\n",
    "  c('Obs.', 'Fit', 'Reg. line', 'Pred. new', 'IC', 'IP'),\n",
    "  col = c('black', 'red', 'black', 'blue', 'black', 'dark grey'),\n",
    "  lwd = c(1, 1, 1, 1, 2, 2),\n",
    "  lty = c(-1, -1, 1, -1, 1, 2),\n",
    "  pch = c(c(1, 19, -1, 19, -1, -1))\n",
    ")\n",
    "\n",
    "title(main='Linear regression (m200 vs m100)')          "
   ]
  },
  {
   "cell_type": "code",
   "execution_count": 82,
   "metadata": {
    "vscode": {
     "languageId": "r"
    }
   },
   "outputs": [
    {
     "data": {
      "image/png": "[encoded data removed]",
      "text/plain": [
       "Plot with title \"Residuals vs fitted m200\""
      ]
     },
     "metadata": {
      "image/png": {
       "height": 420,
       "width": 420
      }
     },
     "output_type": "display_data"
    }
   ],
   "source": [
    "# diagnostic of residuals\n",
    "\n",
    "# X11()\n",
    "par(mfrow=c(2, 2))\n",
    "\n",
    "# 绘制残差的箱线图\n",
    "boxplot(residuals(regression), main='Boxplot of residuals')\n",
    "\n",
    "# 绘制残差的 Q-Q 图\n",
    "qqnorm(residuals(regression))\n",
    "\n",
    "# 绘制残差与 m100 的散点图\n",
    "plot(m100, residuals(regression), main='Residuals vs m100')\n",
    "abline(h=0, lwd=2)\n",
    "\n",
    "# 绘制残差与预测值的散点图\n",
    "plot(fitted(regression), residuals(regression), main='Residuals vs fitted m200')\n",
    "abline(h=0, lwd=2)\n",
    "\n",
    "# 使用 abline() 函数添加了一条水平线，它表示残差为零的位置。"
   ]
  },
  {
   "cell_type": "code",
   "execution_count": 83,
   "metadata": {
    "vscode": {
     "languageId": "r"
    }
   },
   "outputs": [
    {
     "data": {
      "image/png": "[encoded data removed]",
      "text/plain": [
       "Plot with title \"\""
      ]
     },
     "metadata": {
      "image/png": {
       "height": 420,
       "width": 420
      }
     },
     "output_type": "display_data"
    }
   ],
   "source": [
    "# X11()\n",
    "par(mfrow=c(2, 2))\n",
    "plot(regression)"
   ]
  },
  {
   "attachments": {},
   "cell_type": "markdown",
   "metadata": {},
   "source": [
    "### Part 5 Visualization of Multivariate Data"
   ]
  },
  {
   "attachments": {},
   "cell_type": "markdown",
   "metadata": {},
   "source": [
    "#### 5.1 Example 1: dataset record (all the variables)"
   ]
  },
  {
   "cell_type": "code",
   "execution_count": 84,
   "metadata": {
    "vscode": {
     "languageId": "r"
    }
   },
   "outputs": [
    {
     "data": {
      "text/html": [
       "<table class=\"dataframe\">\n",
       "<caption>A data.frame: 6 × 7</caption>\n",
       "<thead>\n",
       "\t<tr><th></th><th scope=col>m100</th><th scope=col>m200</th><th scope=col>m400</th><th scope=col>m800</th><th scope=col>m1500</th><th scope=col>m3000</th><th scope=col>Marathon</th></tr>\n",
       "\t<tr><th></th><th scope=col>&lt;dbl&gt;</th><th scope=col>&lt;dbl&gt;</th><th scope=col>&lt;dbl&gt;</th><th scope=col>&lt;dbl&gt;</th><th scope=col>&lt;dbl&gt;</th><th scope=col>&lt;dbl&gt;</th><th scope=col>&lt;dbl&gt;</th></tr>\n",
       "</thead>\n",
       "<tbody>\n",
       "\t<tr><th scope=row>argentin</th><td>11.61</td><td>22.94</td><td>54.50</td><td>129.0</td><td>265.8</td><td>587.4</td><td>10711.2</td></tr>\n",
       "\t<tr><th scope=row>australi</th><td>11.20</td><td>22.35</td><td>51.08</td><td>118.8</td><td>247.8</td><td>544.8</td><td> 9142.2</td></tr>\n",
       "\t<tr><th scope=row>austria</th><td>11.43</td><td>23.09</td><td>50.62</td><td>119.4</td><td>253.2</td><td>560.4</td><td> 9562.2</td></tr>\n",
       "\t<tr><th scope=row>belgium</th><td>11.41</td><td>23.04</td><td>52.00</td><td>120.0</td><td>248.4</td><td>532.8</td><td> 9471.0</td></tr>\n",
       "\t<tr><th scope=row>bermuda</th><td>11.46</td><td>23.05</td><td>53.30</td><td>129.6</td><td>274.8</td><td>588.6</td><td>10198.8</td></tr>\n",
       "\t<tr><th scope=row>brazil</th><td>11.31</td><td>23.17</td><td>52.80</td><td>126.0</td><td>269.4</td><td>586.2</td><td>10125.0</td></tr>\n",
       "</tbody>\n",
       "</table>\n"
      ],
      "text/latex": [
       "A data.frame: 6 × 7\n",
       "\\begin{tabular}{r|lllllll}\n",
       "  & m100 & m200 & m400 & m800 & m1500 & m3000 & Marathon\\\\\n",
       "  & <dbl> & <dbl> & <dbl> & <dbl> & <dbl> & <dbl> & <dbl>\\\\\n",
       "\\hline\n",
       "\targentin & 11.61 & 22.94 & 54.50 & 129.0 & 265.8 & 587.4 & 10711.2\\\\\n",
       "\taustrali & 11.20 & 22.35 & 51.08 & 118.8 & 247.8 & 544.8 &  9142.2\\\\\n",
       "\taustria & 11.43 & 23.09 & 50.62 & 119.4 & 253.2 & 560.4 &  9562.2\\\\\n",
       "\tbelgium & 11.41 & 23.04 & 52.00 & 120.0 & 248.4 & 532.8 &  9471.0\\\\\n",
       "\tbermuda & 11.46 & 23.05 & 53.30 & 129.6 & 274.8 & 588.6 & 10198.8\\\\\n",
       "\tbrazil & 11.31 & 23.17 & 52.80 & 126.0 & 269.4 & 586.2 & 10125.0\\\\\n",
       "\\end{tabular}\n"
      ],
      "text/markdown": [
       "\n",
       "A data.frame: 6 × 7\n",
       "\n",
       "| <!--/--> | m100 &lt;dbl&gt; | m200 &lt;dbl&gt; | m400 &lt;dbl&gt; | m800 &lt;dbl&gt; | m1500 &lt;dbl&gt; | m3000 &lt;dbl&gt; | Marathon &lt;dbl&gt; |\n",
       "|---|---|---|---|---|---|---|---|\n",
       "| argentin | 11.61 | 22.94 | 54.50 | 129.0 | 265.8 | 587.4 | 10711.2 |\n",
       "| australi | 11.20 | 22.35 | 51.08 | 118.8 | 247.8 | 544.8 |  9142.2 |\n",
       "| austria | 11.43 | 23.09 | 50.62 | 119.4 | 253.2 | 560.4 |  9562.2 |\n",
       "| belgium | 11.41 | 23.04 | 52.00 | 120.0 | 248.4 | 532.8 |  9471.0 |\n",
       "| bermuda | 11.46 | 23.05 | 53.30 | 129.6 | 274.8 | 588.6 | 10198.8 |\n",
       "| brazil | 11.31 | 23.17 | 52.80 | 126.0 | 269.4 | 586.2 | 10125.0 |\n",
       "\n"
      ],
      "text/plain": [
       "         m100  m200  m400  m800  m1500 m3000 Marathon\n",
       "argentin 11.61 22.94 54.50 129.0 265.8 587.4 10711.2 \n",
       "australi 11.20 22.35 51.08 118.8 247.8 544.8  9142.2 \n",
       "austria  11.43 23.09 50.62 119.4 253.2 560.4  9562.2 \n",
       "belgium  11.41 23.04 52.00 120.0 248.4 532.8  9471.0 \n",
       "bermuda  11.46 23.05 53.30 129.6 274.8 588.6 10198.8 \n",
       "brazil   11.31 23.17 52.80 126.0 269.4 586.2 10125.0 "
      ]
     },
     "metadata": {},
     "output_type": "display_data"
    },
    {
     "data": {
      "image/png": "[encoded data removed]",
      "text/plain": [
       "plot without title"
      ]
     },
     "metadata": {
      "image/png": {
       "height": 420,
       "width": 420
      }
     },
     "output_type": "display_data"
    }
   ],
   "source": [
    "record = read.table('record_mod.txt', header=T)\n",
    "head(record)\n",
    "\n",
    "# Scatterplot\n",
    "# x11()\n",
    "pairs(record)  # or plot(record)\n",
    "# 创建一个散点图矩阵（也称为成对图）来展示\"record\"变量中的数据。\n",
    "# pairs()函数以数据框作为其参数，创建所有变量对的散点图矩阵。或者，可以使用plot()函数来创建每个变量对的散点图。"
   ]
  },
  {
   "cell_type": "code",
   "execution_count": 85,
   "metadata": {
    "vscode": {
     "languageId": "r"
    }
   },
   "outputs": [
    {
     "data": {
      "image/png": "[encoded data removed]",
      "text/plain": [
       "plot without title"
      ]
     },
     "metadata": {
      "image/png": {
       "height": 420,
       "width": 420
      }
     },
     "output_type": "display_data"
    }
   ],
   "source": [
    "# Boxplot\n",
    "# boxplot()函数使用\"record\"变量中的原始数据创建了一个箱线图\n",
    "boxplot(record, col='gold') "
   ]
  },
  {
   "cell_type": "code",
   "execution_count": 86,
   "metadata": {
    "vscode": {
     "languageId": "r"
    }
   },
   "outputs": [
    {
     "data": {
      "image/png": "[encoded data removed]",
      "text/plain": [
       "plot without title"
      ]
     },
     "metadata": {
      "image/png": {
       "height": 420,
       "width": 420
      }
     },
     "output_type": "display_data"
    }
   ],
   "source": [
    "# 使用log()函数将其转换为对数值。\n",
    "# 箱线图是一种展示数据分布情况的图形。\n",
    "# 图形中的箱子显示了数据的中间50%（即四分位数），而线（或\"whiskers\"）表示数据的范围。\n",
    "# 通过对数据进行对数转换，可以更清楚地显示数据的变化情况，特别是当数据值之间的差异非常大时。\n",
    "boxplot(log(record), col='gold')"
   ]
  },
  {
   "cell_type": "code",
   "execution_count": 87,
   "metadata": {
    "vscode": {
     "languageId": "r"
    }
   },
   "outputs": [
    {
     "data": {
      "image/png": "[encoded data removed]",
      "text/plain": [
       "plot without title"
      ]
     },
     "metadata": {
      "image/png": {
       "height": 420,
       "width": 420
      }
     },
     "output_type": "display_data"
    }
   ],
   "source": [
    "# Starplot\n",
    "# x11()\n",
    "# 这段代码创建了一个星形图（star plot），用于展示\"record\"变量中的数据。\n",
    "# stars()函数以数据框作为其参数，并创建一个星形图，\n",
    "# 其中每个变量用一个\"臂\"表示。每个数据点在其对应的变量臂上的位置取决于该数据点在该变量中的值。\n",
    "\n",
    "# rep()函数是R中的一个重复函数，用于创建一个重复的向量。\n",
    "# rep(x, times) 其中，x是要重复的对象，times是要重复x的次数。\n",
    "stars(record, col.stars=rep('gold',55))"
   ]
  },
  {
   "cell_type": "code",
   "execution_count": 89,
   "metadata": {
    "vscode": {
     "languageId": "r"
    }
   },
   "outputs": [
    {
     "data": {
      "image/png": "[encoded data removed]",
      "text/plain": [
       "plot without title"
      ]
     },
     "metadata": {
      "image/png": {
       "height": 420,
       "width": 420
      }
     },
     "output_type": "display_data"
    }
   ],
   "source": [
    "# Radarplot\n",
    "# x11()\n",
    "# draw.segments参数是stars()函数的一个逻辑变量，如果设置为T（TRUE），\n",
    "# 则将在雷达图中绘制从数据点到相应变量轴的线段。这可以使得雷达图更加清晰和易于解读，因为它提供了更明确的参考线。\n",
    "stars(record, draw.segments=T)"
   ]
  },
  {
   "cell_type": "code",
   "execution_count": 90,
   "metadata": {
    "vscode": {
     "languageId": "r"
    }
   },
   "outputs": [
    {
     "data": {
      "image/png": "[encoded data removed]",
      "text/plain": [
       "Plot with title \"wsamoa\""
      ]
     },
     "metadata": {
      "image/png": {
       "height": 420,
       "width": 420
      }
     },
     "output_type": "display_data"
    }
   ],
   "source": [
    "# Chernoff faces\n",
    "# Chernoff faces图是一种非常有趣的数据可视化方法，它使用人脸的特征来表示多个变量的值。在这种图形中，每个数据点都表示为一个人脸，人脸的不同特征（如眼睛大小、嘴巴形状等）表示数据点的不同变量值。\n",
    "# x11()\n",
    "\n",
    "# 这里使用的是一个自定义的R函数\"faces()\"，它使用\"record\"中的数据来创建Chernoff faces图。\n",
    "source('faces.R')\n",
    "faces(record)"
   ]
  },
  {
   "attachments": {},
   "cell_type": "markdown",
   "metadata": {},
   "source": [
    "#### 5.2 Example 2: cerebral aneurysm 脑动脉肿瘤"
   ]
  },
  {
   "cell_type": "code",
   "execution_count": 121,
   "metadata": {
    "vscode": {
     "languageId": "r"
    }
   },
   "outputs": [
    {
     "data": {
      "text/html": [
       "<table class=\"dataframe\">\n",
       "<caption>A data.frame: 6 × 6</caption>\n",
       "<thead>\n",
       "\t<tr><th></th><th scope=col>R1</th><th scope=col>R2</th><th scope=col>C1</th><th scope=col>C2</th><th scope=col>POSLH</th><th scope=col>ROT</th></tr>\n",
       "\t<tr><th></th><th scope=col>&lt;dbl&gt;</th><th scope=col>&lt;dbl&gt;</th><th scope=col>&lt;dbl&gt;</th><th scope=col>&lt;dbl&gt;</th><th scope=col>&lt;int&gt;</th><th scope=col>&lt;int&gt;</th></tr>\n",
       "</thead>\n",
       "<tbody>\n",
       "\t<tr><th scope=row>1</th><td> 4.6123692</td><td> 1.8189348</td><td>-0.7113495</td><td>-0.8126038</td><td>1</td><td>1</td></tr>\n",
       "\t<tr><th scope=row>2</th><td> 3.0635290</td><td> 0.5358821</td><td>-0.2321406</td><td> 0.2195964</td><td>1</td><td>2</td></tr>\n",
       "\t<tr><th scope=row>3</th><td>-2.5073081</td><td>-1.8296361</td><td>-0.1477957</td><td> 1.0275683</td><td>2</td><td>1</td></tr>\n",
       "\t<tr><th scope=row>4</th><td>-0.4831741</td><td>-1.3670522</td><td>-0.1344654</td><td> 0.7809211</td><td>2</td><td>2</td></tr>\n",
       "\t<tr><th scope=row>5</th><td> 8.6775054</td><td>-0.7214820</td><td>-0.8779464</td><td>-0.8643967</td><td>1</td><td>1</td></tr>\n",
       "\t<tr><th scope=row>6</th><td>-1.4005311</td><td> 0.3016918</td><td> 0.3694719</td><td> 0.8115340</td><td>2</td><td>1</td></tr>\n",
       "</tbody>\n",
       "</table>\n"
      ],
      "text/latex": [
       "A data.frame: 6 × 6\n",
       "\\begin{tabular}{r|llllll}\n",
       "  & R1 & R2 & C1 & C2 & POSLH & ROT\\\\\n",
       "  & <dbl> & <dbl> & <dbl> & <dbl> & <int> & <int>\\\\\n",
       "\\hline\n",
       "\t1 &  4.6123692 &  1.8189348 & -0.7113495 & -0.8126038 & 1 & 1\\\\\n",
       "\t2 &  3.0635290 &  0.5358821 & -0.2321406 &  0.2195964 & 1 & 2\\\\\n",
       "\t3 & -2.5073081 & -1.8296361 & -0.1477957 &  1.0275683 & 2 & 1\\\\\n",
       "\t4 & -0.4831741 & -1.3670522 & -0.1344654 &  0.7809211 & 2 & 2\\\\\n",
       "\t5 &  8.6775054 & -0.7214820 & -0.8779464 & -0.8643967 & 1 & 1\\\\\n",
       "\t6 & -1.4005311 &  0.3016918 &  0.3694719 &  0.8115340 & 2 & 1\\\\\n",
       "\\end{tabular}\n"
      ],
      "text/markdown": [
       "\n",
       "A data.frame: 6 × 6\n",
       "\n",
       "| <!--/--> | R1 &lt;dbl&gt; | R2 &lt;dbl&gt; | C1 &lt;dbl&gt; | C2 &lt;dbl&gt; | POSLH &lt;int&gt; | ROT &lt;int&gt; |\n",
       "|---|---|---|---|---|---|---|\n",
       "| 1 |  4.6123692 |  1.8189348 | -0.7113495 | -0.8126038 | 1 | 1 |\n",
       "| 2 |  3.0635290 |  0.5358821 | -0.2321406 |  0.2195964 | 1 | 2 |\n",
       "| 3 | -2.5073081 | -1.8296361 | -0.1477957 |  1.0275683 | 2 | 1 |\n",
       "| 4 | -0.4831741 | -1.3670522 | -0.1344654 |  0.7809211 | 2 | 2 |\n",
       "| 5 |  8.6775054 | -0.7214820 | -0.8779464 | -0.8643967 | 1 | 1 |\n",
       "| 6 | -1.4005311 |  0.3016918 |  0.3694719 |  0.8115340 | 2 | 1 |\n",
       "\n"
      ],
      "text/plain": [
       "  R1         R2         C1         C2         POSLH ROT\n",
       "1  4.6123692  1.8189348 -0.7113495 -0.8126038 1     1  \n",
       "2  3.0635290  0.5358821 -0.2321406  0.2195964 1     2  \n",
       "3 -2.5073081 -1.8296361 -0.1477957  1.0275683 2     1  \n",
       "4 -0.4831741 -1.3670522 -0.1344654  0.7809211 2     2  \n",
       "5  8.6775054 -0.7214820 -0.8779464 -0.8643967 1     1  \n",
       "6 -1.4005311  0.3016918  0.3694719  0.8115340 2     1  "
      ]
     },
     "metadata": {},
     "output_type": "display_data"
    },
    {
     "data": {
      "text/html": [
       "<style>\n",
       ".list-inline {list-style: none; margin:0; padding: 0}\n",
       ".list-inline>li {display: inline-block}\n",
       ".list-inline>li:not(:last-child)::after {content: \"\\00b7\"; padding: 0 .5ex}\n",
       "</style>\n",
       "<ol class=list-inline><li>65</li><li>6</li></ol>\n"
      ],
      "text/latex": [
       "\\begin{enumerate*}\n",
       "\\item 65\n",
       "\\item 6\n",
       "\\end{enumerate*}\n"
      ],
      "text/markdown": [
       "1. 65\n",
       "2. 6\n",
       "\n",
       "\n"
      ],
      "text/plain": [
       "[1] 65  6"
      ]
     },
     "metadata": {},
     "output_type": "display_data"
    }
   ],
   "source": [
    "aneurysm = read.table('aneurysm.txt', header=T, sep=',') # 读表\n",
    "head(aneurysm) # 读前六行\n",
    "dim(aneurysm) #输出行列数"
   ]
  },
  {
   "cell_type": "code",
   "execution_count": 122,
   "metadata": {
    "vscode": {
     "languageId": "r"
    }
   },
   "outputs": [
    {
     "data": {
      "text/html": [
       "<table class=\"dataframe\">\n",
       "<caption>A data.frame: 6 × 4</caption>\n",
       "<thead>\n",
       "\t<tr><th></th><th scope=col>R1</th><th scope=col>R2</th><th scope=col>C1</th><th scope=col>C2</th></tr>\n",
       "\t<tr><th></th><th scope=col>&lt;dbl&gt;</th><th scope=col>&lt;dbl&gt;</th><th scope=col>&lt;dbl&gt;</th><th scope=col>&lt;dbl&gt;</th></tr>\n",
       "</thead>\n",
       "<tbody>\n",
       "\t<tr><th scope=row>1</th><td> 4.6123692</td><td> 1.8189348</td><td>-0.7113495</td><td>-0.8126038</td></tr>\n",
       "\t<tr><th scope=row>2</th><td> 3.0635290</td><td> 0.5358821</td><td>-0.2321406</td><td> 0.2195964</td></tr>\n",
       "\t<tr><th scope=row>3</th><td>-2.5073081</td><td>-1.8296361</td><td>-0.1477957</td><td> 1.0275683</td></tr>\n",
       "\t<tr><th scope=row>4</th><td>-0.4831741</td><td>-1.3670522</td><td>-0.1344654</td><td> 0.7809211</td></tr>\n",
       "\t<tr><th scope=row>5</th><td> 8.6775054</td><td>-0.7214820</td><td>-0.8779464</td><td>-0.8643967</td></tr>\n",
       "\t<tr><th scope=row>6</th><td>-1.4005311</td><td> 0.3016918</td><td> 0.3694719</td><td> 0.8115340</td></tr>\n",
       "</tbody>\n",
       "</table>\n"
      ],
      "text/latex": [
       "A data.frame: 6 × 4\n",
       "\\begin{tabular}{r|llll}\n",
       "  & R1 & R2 & C1 & C2\\\\\n",
       "  & <dbl> & <dbl> & <dbl> & <dbl>\\\\\n",
       "\\hline\n",
       "\t1 &  4.6123692 &  1.8189348 & -0.7113495 & -0.8126038\\\\\n",
       "\t2 &  3.0635290 &  0.5358821 & -0.2321406 &  0.2195964\\\\\n",
       "\t3 & -2.5073081 & -1.8296361 & -0.1477957 &  1.0275683\\\\\n",
       "\t4 & -0.4831741 & -1.3670522 & -0.1344654 &  0.7809211\\\\\n",
       "\t5 &  8.6775054 & -0.7214820 & -0.8779464 & -0.8643967\\\\\n",
       "\t6 & -1.4005311 &  0.3016918 &  0.3694719 &  0.8115340\\\\\n",
       "\\end{tabular}\n"
      ],
      "text/markdown": [
       "\n",
       "A data.frame: 6 × 4\n",
       "\n",
       "| <!--/--> | R1 &lt;dbl&gt; | R2 &lt;dbl&gt; | C1 &lt;dbl&gt; | C2 &lt;dbl&gt; |\n",
       "|---|---|---|---|---|\n",
       "| 1 |  4.6123692 |  1.8189348 | -0.7113495 | -0.8126038 |\n",
       "| 2 |  3.0635290 |  0.5358821 | -0.2321406 |  0.2195964 |\n",
       "| 3 | -2.5073081 | -1.8296361 | -0.1477957 |  1.0275683 |\n",
       "| 4 | -0.4831741 | -1.3670522 | -0.1344654 |  0.7809211 |\n",
       "| 5 |  8.6775054 | -0.7214820 | -0.8779464 | -0.8643967 |\n",
       "| 6 | -1.4005311 |  0.3016918 |  0.3694719 |  0.8115340 |\n",
       "\n"
      ],
      "text/plain": [
       "  R1         R2         C1         C2        \n",
       "1  4.6123692  1.8189348 -0.7113495 -0.8126038\n",
       "2  3.0635290  0.5358821 -0.2321406  0.2195964\n",
       "3 -2.5073081 -1.8296361 -0.1477957  1.0275683\n",
       "4 -0.4831741 -1.3670522 -0.1344654  0.7809211\n",
       "5  8.6775054 -0.7214820 -0.8779464 -0.8643967\n",
       "6 -1.4005311  0.3016918  0.3694719  0.8115340"
      ]
     },
     "metadata": {},
     "output_type": "display_data"
    }
   ],
   "source": [
    "aneurysm.geometry = aneurysm[, 1:4] # 将R1 R2 C1 C2命名为aneurysm.geometry\n",
    "aneurysm.position = factor(aneurysm[, 5]) # 将 POSLH命名aneurysm.position且factor\n",
    "\n",
    "head(aneurysm.geometry) # 输出前六行"
   ]
  },
  {
   "cell_type": "code",
   "execution_count": 123,
   "metadata": {
    "vscode": {
     "languageId": "r"
    }
   },
   "outputs": [
    {
     "data": {
      "image/png": "[encoded data removed]",
      "text/plain": [
       "Plot with title \"Histogram of R2\""
      ]
     },
     "metadata": {
      "image/png": {
       "height": 420,
       "width": 420
      }
     },
     "output_type": "display_data"
    }
   ],
   "source": [
    "# if position is 1, output red, otherwise, output blue\n",
    "color.position = ifelse(aneurysm.position == '1', 'red', 'blue')\n",
    "\n",
    "attach(aneurysm.geometry) # 方便后续直接输入 R1 R2 C1 C2\n",
    "\n",
    "# x11()\n",
    "# layout 输出 三张图 布局 为 第一列 一张长图 第二列两个小图\n",
    "# 1 2\n",
    "# 1 3\n",
    "layout(cbind(c(1, 1), c(2, 3)), widths=c(2, 1), heights=c(1, 1))\n",
    "\n",
    "plot(R1, R2, asp=1, col=color.position, pch=16)\n",
    "hist(R1, prob=T, xlim=c(-10, 15))\n",
    "hist(R2, prob=T, xlim=c(-10, 15))"
   ]
  },
  {
   "cell_type": "code",
   "execution_count": 124,
   "metadata": {
    "vscode": {
     "languageId": "r"
    }
   },
   "outputs": [
    {
     "data": {
      "image/png": "[encoded data removed]",
      "text/plain": [
       "Plot with title \"Histogram of C2\""
      ]
     },
     "metadata": {
      "image/png": {
       "height": 420,
       "width": 420
      }
     },
     "output_type": "display_data"
    }
   ],
   "source": [
    "# x11()\n",
    "layout(cbind(c(1, 1), c(2, 3)), widths=c(2, 1), heights=c(1, 1))\n",
    "plot(C1, C2, asp=1, col=color.position, pch=16)\n",
    "hist(C1, prob=T, xlim=c(-5, 5))\n",
    "hist(C2, prob=T, xlim=c(-5, 5))\n",
    "detach(aneurysm.geometry)"
   ]
  },
  {
   "cell_type": "code",
   "execution_count": 125,
   "metadata": {
    "vscode": {
     "languageId": "r"
    }
   },
   "outputs": [
    {
     "data": {
      "text/html": [
       "<style>\n",
       ".dl-inline {width: auto; margin:0; padding: 0}\n",
       ".dl-inline>dt, .dl-inline>dd {float: none; width: auto; display: inline-block}\n",
       ".dl-inline>dt::after {content: \":\\0020\"; padding-right: .5ex}\n",
       ".dl-inline>dt:not(:first-of-type) {padding-left: .5ex}\n",
       "</style><dl class=dl-inline><dt>R1</dt><dd>1.18173032790893e-16</dd><dt>R2</dt><dd>1.79817432311734e-16</dd><dt>C1</dt><dd>1.49040268641555e-16</dd><dt>C2</dt><dd>6.45287943004882e-17</dd></dl>\n"
      ],
      "text/latex": [
       "\\begin{description*}\n",
       "\\item[R1] 1.18173032790893e-16\n",
       "\\item[R2] 1.79817432311734e-16\n",
       "\\item[C1] 1.49040268641555e-16\n",
       "\\item[C2] 6.45287943004882e-17\n",
       "\\end{description*}\n"
      ],
      "text/markdown": [
       "R1\n",
       ":   1.18173032790893e-16R2\n",
       ":   1.79817432311734e-16C1\n",
       ":   1.49040268641555e-16C2\n",
       ":   6.45287943004882e-17\n",
       "\n"
      ],
      "text/plain": [
       "          R1           R2           C1           C2 \n",
       "1.181730e-16 1.798174e-16 1.490403e-16 6.452879e-17 "
      ]
     },
     "metadata": {},
     "output_type": "display_data"
    },
    {
     "data": {
      "text/html": [
       "<style>\n",
       ".dl-inline {width: auto; margin:0; padding: 0}\n",
       ".dl-inline>dt, .dl-inline>dd {float: none; width: auto; display: inline-block}\n",
       ".dl-inline>dt::after {content: \":\\0020\"; padding-right: .5ex}\n",
       ".dl-inline>dt:not(:first-of-type) {padding-left: .5ex}\n",
       "</style><dl class=dl-inline><dt>R1</dt><dd>0</dd><dt>R2</dt><dd>0</dd><dt>C1</dt><dd>0</dd><dt>C2</dt><dd>0</dd></dl>\n"
      ],
      "text/latex": [
       "\\begin{description*}\n",
       "\\item[R1] 0\n",
       "\\item[R2] 0\n",
       "\\item[C1] 0\n",
       "\\item[C2] 0\n",
       "\\end{description*}\n"
      ],
      "text/markdown": [
       "R1\n",
       ":   0R2\n",
       ":   0C1\n",
       ":   0C2\n",
       ":   0\n",
       "\n"
      ],
      "text/plain": [
       "R1 R2 C1 C2 \n",
       " 0  0  0  0 "
      ]
     },
     "metadata": {},
     "output_type": "display_data"
    }
   ],
   "source": [
    "# some statistical indices\n",
    "sapply(aneurysm.geometry, mean) # 计算geometry中四个元素的均值\n",
    "\n",
    "# Attention: rounded zeros!\n",
    "# round(x, digits = 0) ，x表示要进行四舍五入的数或向量，digits表示要保留的小数位数，默认为0，表示对整数进行四舍五入。\n",
    "round(sapply(aneurysm.geometry, mean), 1)"
   ]
  },
  {
   "cell_type": "code",
   "execution_count": 106,
   "metadata": {
    "vscode": {
     "languageId": "r"
    }
   },
   "outputs": [
    {
     "data": {
      "text/html": [
       "<style>\n",
       ".dl-inline {width: auto; margin:0; padding: 0}\n",
       ".dl-inline>dt, .dl-inline>dd {float: none; width: auto; display: inline-block}\n",
       ".dl-inline>dt::after {content: \":\\0020\"; padding-right: .5ex}\n",
       ".dl-inline>dt:not(:first-of-type) {padding-left: .5ex}\n",
       "</style><dl class=dl-inline><dt>R1</dt><dd>4.18594026876633</dd><dt>R2</dt><dd>1.85633419973574</dd><dt>C1</dt><dd>0.587157683670762</dd><dt>C2</dt><dd>0.494013197883247</dd></dl>\n"
      ],
      "text/latex": [
       "\\begin{description*}\n",
       "\\item[R1] 4.18594026876633\n",
       "\\item[R2] 1.85633419973574\n",
       "\\item[C1] 0.587157683670762\n",
       "\\item[C2] 0.494013197883247\n",
       "\\end{description*}\n"
      ],
      "text/markdown": [
       "R1\n",
       ":   4.18594026876633R2\n",
       ":   1.85633419973574C1\n",
       ":   0.587157683670762C2\n",
       ":   0.494013197883247\n",
       "\n"
      ],
      "text/plain": [
       "       R1        R2        C1        C2 \n",
       "4.1859403 1.8563342 0.5871577 0.4940132 "
      ]
     },
     "metadata": {},
     "output_type": "display_data"
    },
    {
     "data": {
      "text/html": [
       "<style>\n",
       ".dl-inline {width: auto; margin:0; padding: 0}\n",
       ".dl-inline>dt, .dl-inline>dd {float: none; width: auto; display: inline-block}\n",
       ".dl-inline>dt::after {content: \":\\0020\"; padding-right: .5ex}\n",
       ".dl-inline>dt:not(:first-of-type) {padding-left: .5ex}\n",
       "</style><dl class=dl-inline><dt>R1</dt><dd>4.2</dd><dt>R2</dt><dd>1.9</dd><dt>C1</dt><dd>0.6</dd><dt>C2</dt><dd>0.5</dd></dl>\n"
      ],
      "text/latex": [
       "\\begin{description*}\n",
       "\\item[R1] 4.2\n",
       "\\item[R2] 1.9\n",
       "\\item[C1] 0.6\n",
       "\\item[C2] 0.5\n",
       "\\end{description*}\n"
      ],
      "text/markdown": [
       "R1\n",
       ":   4.2R2\n",
       ":   1.9C1\n",
       ":   0.6C2\n",
       ":   0.5\n",
       "\n"
      ],
      "text/plain": [
       " R1  R2  C1  C2 \n",
       "4.2 1.9 0.6 0.5 "
      ]
     },
     "metadata": {},
     "output_type": "display_data"
    }
   ],
   "source": [
    "sapply(aneurysm.geometry, sd) # 计算geometry中四个元素的标准差\n",
    "round(sapply(aneurysm.geometry, sd), 1)"
   ]
  },
  {
   "cell_type": "code",
   "execution_count": 107,
   "metadata": {
    "vscode": {
     "languageId": "r"
    }
   },
   "outputs": [
    {
     "data": {
      "text/html": [
       "<table class=\"dataframe\">\n",
       "<caption>A matrix: 4 × 4 of type dbl</caption>\n",
       "<thead>\n",
       "\t<tr><th></th><th scope=col>R1</th><th scope=col>R2</th><th scope=col>C1</th><th scope=col>C2</th></tr>\n",
       "</thead>\n",
       "<tbody>\n",
       "\t<tr><th scope=row>R1</th><td> 1.752210e+01</td><td>-9.654685e-16</td><td>-1.305303e+00</td><td>-4.165673e-01</td></tr>\n",
       "\t<tr><th scope=row>R2</th><td>-9.654685e-16</td><td> 3.445977e+00</td><td>-5.419870e-02</td><td>-1.502647e-01</td></tr>\n",
       "\t<tr><th scope=row>C1</th><td>-1.305303e+00</td><td>-5.419870e-02</td><td> 3.447541e-01</td><td> 2.946215e-16</td></tr>\n",
       "\t<tr><th scope=row>C2</th><td>-4.165673e-01</td><td>-1.502647e-01</td><td> 2.946215e-16</td><td> 2.440490e-01</td></tr>\n",
       "</tbody>\n",
       "</table>\n"
      ],
      "text/latex": [
       "A matrix: 4 × 4 of type dbl\n",
       "\\begin{tabular}{r|llll}\n",
       "  & R1 & R2 & C1 & C2\\\\\n",
       "\\hline\n",
       "\tR1 &  1.752210e+01 & -9.654685e-16 & -1.305303e+00 & -4.165673e-01\\\\\n",
       "\tR2 & -9.654685e-16 &  3.445977e+00 & -5.419870e-02 & -1.502647e-01\\\\\n",
       "\tC1 & -1.305303e+00 & -5.419870e-02 &  3.447541e-01 &  2.946215e-16\\\\\n",
       "\tC2 & -4.165673e-01 & -1.502647e-01 &  2.946215e-16 &  2.440490e-01\\\\\n",
       "\\end{tabular}\n"
      ],
      "text/markdown": [
       "\n",
       "A matrix: 4 × 4 of type dbl\n",
       "\n",
       "| <!--/--> | R1 | R2 | C1 | C2 |\n",
       "|---|---|---|---|---|\n",
       "| R1 |  1.752210e+01 | -9.654685e-16 | -1.305303e+00 | -4.165673e-01 |\n",
       "| R2 | -9.654685e-16 |  3.445977e+00 | -5.419870e-02 | -1.502647e-01 |\n",
       "| C1 | -1.305303e+00 | -5.419870e-02 |  3.447541e-01 |  2.946215e-16 |\n",
       "| C2 | -4.165673e-01 | -1.502647e-01 |  2.946215e-16 |  2.440490e-01 |\n",
       "\n"
      ],
      "text/plain": [
       "   R1            R2            C1            C2           \n",
       "R1  1.752210e+01 -9.654685e-16 -1.305303e+00 -4.165673e-01\n",
       "R2 -9.654685e-16  3.445977e+00 -5.419870e-02 -1.502647e-01\n",
       "C1 -1.305303e+00 -5.419870e-02  3.447541e-01  2.946215e-16\n",
       "C2 -4.165673e-01 -1.502647e-01  2.946215e-16  2.440490e-01"
      ]
     },
     "metadata": {},
     "output_type": "display_data"
    },
    {
     "data": {
      "text/html": [
       "<table class=\"dataframe\">\n",
       "<caption>A matrix: 4 × 4 of type dbl</caption>\n",
       "<thead>\n",
       "\t<tr><th></th><th scope=col>R1</th><th scope=col>R2</th><th scope=col>C1</th><th scope=col>C2</th></tr>\n",
       "</thead>\n",
       "<tbody>\n",
       "\t<tr><th scope=row>R1</th><td>17.5</td><td> 0.0</td><td>-1.3</td><td>-0.4</td></tr>\n",
       "\t<tr><th scope=row>R2</th><td> 0.0</td><td> 3.4</td><td>-0.1</td><td>-0.2</td></tr>\n",
       "\t<tr><th scope=row>C1</th><td>-1.3</td><td>-0.1</td><td> 0.3</td><td> 0.0</td></tr>\n",
       "\t<tr><th scope=row>C2</th><td>-0.4</td><td>-0.2</td><td> 0.0</td><td> 0.2</td></tr>\n",
       "</tbody>\n",
       "</table>\n"
      ],
      "text/latex": [
       "A matrix: 4 × 4 of type dbl\n",
       "\\begin{tabular}{r|llll}\n",
       "  & R1 & R2 & C1 & C2\\\\\n",
       "\\hline\n",
       "\tR1 & 17.5 &  0.0 & -1.3 & -0.4\\\\\n",
       "\tR2 &  0.0 &  3.4 & -0.1 & -0.2\\\\\n",
       "\tC1 & -1.3 & -0.1 &  0.3 &  0.0\\\\\n",
       "\tC2 & -0.4 & -0.2 &  0.0 &  0.2\\\\\n",
       "\\end{tabular}\n"
      ],
      "text/markdown": [
       "\n",
       "A matrix: 4 × 4 of type dbl\n",
       "\n",
       "| <!--/--> | R1 | R2 | C1 | C2 |\n",
       "|---|---|---|---|---|\n",
       "| R1 | 17.5 |  0.0 | -1.3 | -0.4 |\n",
       "| R2 |  0.0 |  3.4 | -0.1 | -0.2 |\n",
       "| C1 | -1.3 | -0.1 |  0.3 |  0.0 |\n",
       "| C2 | -0.4 | -0.2 |  0.0 |  0.2 |\n",
       "\n"
      ],
      "text/plain": [
       "   R1   R2   C1   C2  \n",
       "R1 17.5  0.0 -1.3 -0.4\n",
       "R2  0.0  3.4 -0.1 -0.2\n",
       "C1 -1.3 -0.1  0.3  0.0\n",
       "C2 -0.4 -0.2  0.0  0.2"
      ]
     },
     "metadata": {},
     "output_type": "display_data"
    }
   ],
   "source": [
    "cov(aneurysm.geometry) # 计算geometry中四个元素的协方差\n",
    "round(cov(aneurysm.geometry), 1)"
   ]
  },
  {
   "cell_type": "code",
   "execution_count": 108,
   "metadata": {
    "vscode": {
     "languageId": "r"
    }
   },
   "outputs": [
    {
     "data": {
      "text/html": [
       "<table class=\"dataframe\">\n",
       "<caption>A matrix: 4 × 4 of type dbl</caption>\n",
       "<thead>\n",
       "\t<tr><th></th><th scope=col>R1</th><th scope=col>R2</th><th scope=col>C1</th><th scope=col>C2</th></tr>\n",
       "</thead>\n",
       "<tbody>\n",
       "\t<tr><th scope=row>R1</th><td> 1.000000e+00</td><td>-1.242479e-16</td><td>-5.310843e-01</td><td>-2.014436e-01</td></tr>\n",
       "\t<tr><th scope=row>R2</th><td>-1.242479e-16</td><td> 1.000000e+00</td><td>-4.972537e-02</td><td>-1.638560e-01</td></tr>\n",
       "\t<tr><th scope=row>C1</th><td>-5.310843e-01</td><td>-4.972537e-02</td><td> 1.000000e+00</td><td> 1.015713e-15</td></tr>\n",
       "\t<tr><th scope=row>C2</th><td>-2.014436e-01</td><td>-1.638560e-01</td><td> 1.015713e-15</td><td> 1.000000e+00</td></tr>\n",
       "</tbody>\n",
       "</table>\n"
      ],
      "text/latex": [
       "A matrix: 4 × 4 of type dbl\n",
       "\\begin{tabular}{r|llll}\n",
       "  & R1 & R2 & C1 & C2\\\\\n",
       "\\hline\n",
       "\tR1 &  1.000000e+00 & -1.242479e-16 & -5.310843e-01 & -2.014436e-01\\\\\n",
       "\tR2 & -1.242479e-16 &  1.000000e+00 & -4.972537e-02 & -1.638560e-01\\\\\n",
       "\tC1 & -5.310843e-01 & -4.972537e-02 &  1.000000e+00 &  1.015713e-15\\\\\n",
       "\tC2 & -2.014436e-01 & -1.638560e-01 &  1.015713e-15 &  1.000000e+00\\\\\n",
       "\\end{tabular}\n"
      ],
      "text/markdown": [
       "\n",
       "A matrix: 4 × 4 of type dbl\n",
       "\n",
       "| <!--/--> | R1 | R2 | C1 | C2 |\n",
       "|---|---|---|---|---|\n",
       "| R1 |  1.000000e+00 | -1.242479e-16 | -5.310843e-01 | -2.014436e-01 |\n",
       "| R2 | -1.242479e-16 |  1.000000e+00 | -4.972537e-02 | -1.638560e-01 |\n",
       "| C1 | -5.310843e-01 | -4.972537e-02 |  1.000000e+00 |  1.015713e-15 |\n",
       "| C2 | -2.014436e-01 | -1.638560e-01 |  1.015713e-15 |  1.000000e+00 |\n",
       "\n"
      ],
      "text/plain": [
       "   R1            R2            C1            C2           \n",
       "R1  1.000000e+00 -1.242479e-16 -5.310843e-01 -2.014436e-01\n",
       "R2 -1.242479e-16  1.000000e+00 -4.972537e-02 -1.638560e-01\n",
       "C1 -5.310843e-01 -4.972537e-02  1.000000e+00  1.015713e-15\n",
       "C2 -2.014436e-01 -1.638560e-01  1.015713e-15  1.000000e+00"
      ]
     },
     "metadata": {},
     "output_type": "display_data"
    },
    {
     "data": {
      "text/html": [
       "<table class=\"dataframe\">\n",
       "<caption>A matrix: 4 × 4 of type dbl</caption>\n",
       "<thead>\n",
       "\t<tr><th></th><th scope=col>R1</th><th scope=col>R2</th><th scope=col>C1</th><th scope=col>C2</th></tr>\n",
       "</thead>\n",
       "<tbody>\n",
       "\t<tr><th scope=row>R1</th><td> 1.0</td><td> 0.0</td><td>-0.5</td><td>-0.2</td></tr>\n",
       "\t<tr><th scope=row>R2</th><td> 0.0</td><td> 1.0</td><td> 0.0</td><td>-0.2</td></tr>\n",
       "\t<tr><th scope=row>C1</th><td>-0.5</td><td> 0.0</td><td> 1.0</td><td> 0.0</td></tr>\n",
       "\t<tr><th scope=row>C2</th><td>-0.2</td><td>-0.2</td><td> 0.0</td><td> 1.0</td></tr>\n",
       "</tbody>\n",
       "</table>\n"
      ],
      "text/latex": [
       "A matrix: 4 × 4 of type dbl\n",
       "\\begin{tabular}{r|llll}\n",
       "  & R1 & R2 & C1 & C2\\\\\n",
       "\\hline\n",
       "\tR1 &  1.0 &  0.0 & -0.5 & -0.2\\\\\n",
       "\tR2 &  0.0 &  1.0 &  0.0 & -0.2\\\\\n",
       "\tC1 & -0.5 &  0.0 &  1.0 &  0.0\\\\\n",
       "\tC2 & -0.2 & -0.2 &  0.0 &  1.0\\\\\n",
       "\\end{tabular}\n"
      ],
      "text/markdown": [
       "\n",
       "A matrix: 4 × 4 of type dbl\n",
       "\n",
       "| <!--/--> | R1 | R2 | C1 | C2 |\n",
       "|---|---|---|---|---|\n",
       "| R1 |  1.0 |  0.0 | -0.5 | -0.2 |\n",
       "| R2 |  0.0 |  1.0 |  0.0 | -0.2 |\n",
       "| C1 | -0.5 |  0.0 |  1.0 |  0.0 |\n",
       "| C2 | -0.2 | -0.2 |  0.0 |  1.0 |\n",
       "\n"
      ],
      "text/plain": [
       "   R1   R2   C1   C2  \n",
       "R1  1.0  0.0 -0.5 -0.2\n",
       "R2  0.0  1.0  0.0 -0.2\n",
       "C1 -0.5  0.0  1.0  0.0\n",
       "C2 -0.2 -0.2  0.0  1.0"
      ]
     },
     "metadata": {},
     "output_type": "display_data"
    }
   ],
   "source": [
    "cor(aneurysm.geometry) # 计算geometry中四个元素的相关系数\n",
    "round(cor(aneurysm.geometry), 1)"
   ]
  },
  {
   "cell_type": "code",
   "execution_count": 126,
   "metadata": {
    "vscode": {
     "languageId": "r"
    }
   },
   "outputs": [
    {
     "data": {
      "image/png": "[encoded data removed]",
      "text/plain": [
       "plot without title"
      ]
     },
     "metadata": {
      "image/png": {
       "height": 420,
       "width": 420
      }
     },
     "output_type": "display_data"
    }
   ],
   "source": [
    "# Scatterplot\n",
    "# x11()\n",
    "pairs(aneurysm.geometry, col=color.position, pch=16)"
   ]
  },
  {
   "cell_type": "code",
   "execution_count": 127,
   "metadata": {
    "vscode": {
     "languageId": "r"
    }
   },
   "outputs": [
    {
     "data": {
      "image/png": "[encoded data removed]",
      "text/plain": [
       "plot without title"
      ]
     },
     "metadata": {
      "image/png": {
       "height": 420,
       "width": 420
      }
     },
     "output_type": "display_data"
    }
   ],
   "source": [
    "# Boxplot\n",
    "# x11()\n",
    "boxplot(aneurysm.geometry, col='gold')"
   ]
  },
  {
   "cell_type": "code",
   "execution_count": 128,
   "metadata": {
    "vscode": {
     "languageId": "r"
    }
   },
   "outputs": [
    {
     "data": {
      "image/png": "[encoded data removed]",
      "text/plain": [
       "Plot with title \"C2\""
      ]
     },
     "metadata": {
      "image/png": {
       "height": 420,
       "width": 420
      }
     },
     "output_type": "display_data"
    }
   ],
   "source": [
    "# Stratified boxplots\n",
    "# x11()\n",
    "par(mfrow=c(1, 4)) #按行 创建四个子图\n",
    "# x 轴上的分类变量是 aneurysm.position，y 轴是 aneurysm.geometry 数据集中的 `R几` 变量的值\n",
    "# `~` 符号表示用 aneurysm.position 来分组，也就是说，这个箱线图将 R1 变量按照位置（1 或 2）分为两组，分别绘制在 x 轴的左侧和右侧。\n",
    "boxplot(aneurysm.geometry$R1 ~ aneurysm.position, col=c('red', 'blue'), main='R1')\n",
    "\n",
    "boxplot(aneurysm.geometry$R2 ~ aneurysm.position, col=c('red', 'blue'), main='R2')\n",
    "boxplot(aneurysm.geometry$C1 ~ aneurysm.position, col=c('red', 'blue'), main='C1')\n",
    "boxplot(aneurysm.geometry$C2 ~ aneurysm.position, col=c('red', 'blue'), main='C2')"
   ]
  },
  {
   "cell_type": "code",
   "execution_count": 129,
   "metadata": {
    "vscode": {
     "languageId": "r"
    }
   },
   "outputs": [
    {
     "data": {
      "image/png": "[encoded data removed]",
      "text/plain": [
       "Plot with title \"65\""
      ]
     },
     "metadata": {
      "image/png": {
       "height": 420,
       "width": 420
      }
     },
     "output_type": "display_data"
    }
   ],
   "source": [
    "# Chernoff faces\n",
    "x11()\n",
    "source('faces.R')\n",
    "# X11()\n",
    "faces(aneurysm.geometry)"
   ]
  },
  {
   "cell_type": "code",
   "execution_count": 136,
   "metadata": {
    "vscode": {
     "languageId": "r"
    }
   },
   "outputs": [
    {
     "data": {
      "image/png": "[encoded data removed]",
      "text/plain": [
       "plot without title"
      ]
     },
     "metadata": {
      "image/png": {
       "height": 420,
       "width": 420
      }
     },
     "output_type": "display_data"
    }
   ],
   "source": [
    "# matplot是用于绘制矩阵数据的函数。\n",
    "# 矩阵转置表示要绘制该矩阵的每一列\n",
    "# type='l' 便是绘制连续的线条\n",
    "# xaxt = 'n' 取消默认的 x 轴刻度线和标签\n",
    "matplot(t(aneurysm.geometry), type='l', xaxt = 'n', col=color.position) \n",
    "# side=1 表示绘制 x 轴；at=1:4 表示在 x 轴的 1 到 4 位置上绘制刻度线；\n",
    "axis(side=1, at=1:4, labels=c('R1', 'R2', 'C1', 'C2'))\n",
    "# matplot(t(aneurysm.geometry), type='l', col=color.position)"
   ]
  },
  {
   "attachments": {},
   "cell_type": "markdown",
   "metadata": {},
   "source": [
    "### Visualization of Categorical Data"
   ]
  },
  {
   "cell_type": "code",
   "execution_count": 139,
   "metadata": {
    "vscode": {
     "languageId": "r"
    }
   },
   "outputs": [
    {
     "data": {
      "text/html": [
       "<style>\n",
       ".list-inline {list-style: none; margin:0; padding: 0}\n",
       ".list-inline>li {display: inline-block}\n",
       ".list-inline>li:not(:last-child)::after {content: \"\\00b7\"; padding: 0 .5ex}\n",
       "</style>\n",
       "<ol class=list-inline><li>MI</li><li>MI</li><li>VA</li><li>BG</li><li>LO</li><li>LO</li><li>CR</li><li>Alt</li><li>CR</li><li>MI</li><li>Alt</li><li>CR</li><li>LO</li><li>VA</li><li>MI</li><li>Alt</li><li>LO</li><li>MI</li></ol>\n",
       "\n",
       "<details>\n",
       "\t<summary style=display:list-item;cursor:pointer>\n",
       "\t\t<strong>Levels</strong>:\n",
       "\t</summary>\n",
       "\t<style>\n",
       "\t.list-inline {list-style: none; margin:0; padding: 0}\n",
       "\t.list-inline>li {display: inline-block}\n",
       "\t.list-inline>li:not(:last-child)::after {content: \"\\00b7\"; padding: 0 .5ex}\n",
       "\t</style>\n",
       "\t<ol class=list-inline><li>'MI'</li><li>'LO'</li><li>'BG'</li><li>'CR'</li><li>'VA'</li><li>'Alt'</li></ol>\n",
       "</details>"
      ],
      "text/latex": [
       "\\begin{enumerate*}\n",
       "\\item MI\n",
       "\\item MI\n",
       "\\item VA\n",
       "\\item BG\n",
       "\\item LO\n",
       "\\item LO\n",
       "\\item CR\n",
       "\\item Alt\n",
       "\\item CR\n",
       "\\item MI\n",
       "\\item Alt\n",
       "\\item CR\n",
       "\\item LO\n",
       "\\item VA\n",
       "\\item MI\n",
       "\\item Alt\n",
       "\\item LO\n",
       "\\item MI\n",
       "\\end{enumerate*}\n",
       "\n",
       "\\emph{Levels}: \\begin{enumerate*}\n",
       "\\item 'MI'\n",
       "\\item 'LO'\n",
       "\\item 'BG'\n",
       "\\item 'CR'\n",
       "\\item 'VA'\n",
       "\\item 'Alt'\n",
       "\\end{enumerate*}\n"
      ],
      "text/markdown": [
       "1. MI\n",
       "2. MI\n",
       "3. VA\n",
       "4. BG\n",
       "5. LO\n",
       "6. LO\n",
       "7. CR\n",
       "8. Alt\n",
       "9. CR\n",
       "10. MI\n",
       "11. Alt\n",
       "12. CR\n",
       "13. LO\n",
       "14. VA\n",
       "15. MI\n",
       "16. Alt\n",
       "17. LO\n",
       "18. MI\n",
       "\n",
       "\n",
       "\n",
       "**Levels**: 1. 'MI'\n",
       "2. 'LO'\n",
       "3. 'BG'\n",
       "4. 'CR'\n",
       "5. 'VA'\n",
       "6. 'Alt'\n",
       "\n",
       "\n"
      ],
      "text/plain": [
       " [1] MI  MI  VA  BG  LO  LO  CR  Alt CR  MI  Alt CR  LO  VA  MI  Alt LO  MI \n",
       "Levels: MI LO BG CR VA Alt"
      ]
     },
     "metadata": {},
     "output_type": "display_data"
    }
   ],
   "source": [
    "district = c('MI', 'MI', 'VA', 'BG', 'LO', 'LO', 'CR', 'Alt', 'CR', 'MI', 'Alt', 'CR', 'LO', 'VA', 'MI', 'Alt', 'LO', 'MI')\n",
    "district = factor(district, levels=c('MI', 'LO', 'BG', 'CR', 'VA', 'Alt'))\n",
    "district"
   ]
  },
  {
   "cell_type": "code",
   "execution_count": 138,
   "metadata": {
    "vscode": {
     "languageId": "r"
    }
   },
   "outputs": [
    {
     "data": {
      "text/plain": [
       "district\n",
       " MI  LO  BG  CR  VA Alt \n",
       "  5   4   1   3   2   3 "
      ]
     },
     "metadata": {},
     "output_type": "display_data"
    }
   ],
   "source": [
    "table(district) #统计频数"
   ]
  },
  {
   "cell_type": "code",
   "execution_count": 140,
   "metadata": {
    "vscode": {
     "languageId": "r"
    }
   },
   "outputs": [
    {
     "data": {
      "image/png": "[encoded data removed]",
      "text/plain": [
       "plot without title"
      ]
     },
     "metadata": {
      "image/png": {
       "height": 420,
       "width": 420
      }
     },
     "output_type": "display_data"
    }
   ],
   "source": [
    "# Pie chart (no ordering of levels没有级别排序)\n",
    "# x11()\n",
    "# levels(district)指示各个district\n",
    "# length指示district数量\n",
    "pie(table(district), col=rainbow(length(levels(district)))) "
   ]
  },
  {
   "cell_type": "code",
   "execution_count": 141,
   "metadata": {
    "vscode": {
     "languageId": "r"
    }
   },
   "outputs": [
    {
     "data": {
      "image/png": "[encoded data removed]",
      "text/plain": [
       "Plot with title \"Pie Chart of Districts \""
      ]
     },
     "metadata": {
      "image/png": {
       "height": 420,
       "width": 420
      }
     },
     "output_type": "display_data"
    }
   ],
   "source": [
    "# 3D Pie chart (never use them!!) 永远不要用！！！\n",
    "library(plotrix)\n",
    "# x11(width=14)\n",
    "par(mfrow=c(1, 2))\n",
    "\n",
    "# pie3D 用来绘制3D饼图\n",
    "pie3D(\n",
    "  table(district)[1:length(levels(district))], # 给表（饼）分块\n",
    "  labels = levels(district), # 添加饼图标签\n",
    "  explode = 0.1, # 用于在饼图中拉出某些块\n",
    "  main = \"Pie Chart of Districts \",\n",
    "  col = rainbow(length(levels(district)))\n",
    ")\n",
    "\n",
    "set.seed(020323) # 设置种子，保证每次随机采样的结果相同\n",
    "\n",
    "# 使用sample函数随机打乱了district变量中每个不同取值的顺序，并将打乱后的顺序存储在shuffle变量中\n",
    "# replace=F表示在进行随机采样时，不允许有重复的采样结果\n",
    "shuffle = sample(1:length(levels(district)), size=length(levels(district)),replace = F)\n",
    "pie3D(table(district)[shuffle], labels=levels(district)[shuffle], explode=0.1, main=\"Pie Chart of Districts \", col=rainbow(length(levels(district)))[shuffle])"
   ]
  },
  {
   "cell_type": "code",
   "execution_count": 142,
   "metadata": {
    "vscode": {
     "languageId": "r"
    }
   },
   "outputs": [
    {
     "data": {
      "image/png": "[encoded data removed]",
      "text/plain": [
       "plot without title"
      ]
     },
     "metadata": {
      "image/png": {
       "height": 420,
       "width": 420
      }
     },
     "output_type": "display_data"
    }
   ],
   "source": [
    "# Barplot (levels are ordered levels有级别排序) \n",
    "# x11()\n",
    "par(mfrow=c(1, 2))\n",
    "barplot(table(district) / length(district))  \n",
    "# or\n",
    "plot(district)   # barplot of absolute frequences"
   ]
  },
  {
   "cell_type": "code",
   "execution_count": 143,
   "metadata": {
    "vscode": {
     "languageId": "r"
    }
   },
   "outputs": [
    {
     "data": {
      "image/png": "[encoded data removed]",
      "text/plain": [
       "plot without title"
      ]
     },
     "metadata": {
      "image/png": {
       "height": 420,
       "width": 420
      }
     },
     "output_type": "display_data"
    },
    {
     "data": {
      "image/png": "[encoded data removed]",
      "text/plain": [
       "plot without title"
      ]
     },
     "metadata": {
      "image/png": {
       "height": 420,
       "width": 420
      }
     },
     "output_type": "display_data"
    }
   ],
   "source": [
    "# Remark: Some functions (e.g., the function plot()) may behave differently depending on the object it takes as input\n",
    "plot(district)\n",
    "plot(record) # scatterplot"
   ]
  },
  {
   "cell_type": "code",
   "execution_count": 145,
   "metadata": {
    "vscode": {
     "languageId": "r"
    }
   },
   "outputs": [
    {
     "data": {
      "image/png": "[encoded data removed]",
      "text/plain": [
       "plot without title"
      ]
     },
     "metadata": {
      "image/png": {
       "height": 420,
       "width": 420
      }
     },
     "output_type": "display_data"
    }
   ],
   "source": [
    "# Remark 2: be careful to the scale of representation\n",
    "# x11(width=11, height=5)\n",
    "par(mfrow=c(1, 3))\n",
    "barplot(table(district)/length(district), ylim=c(0, 1)); box()                       \n",
    "barplot(table(district)/length(district),ylim=c(0, 10)); box() \n",
    "barplot(table(district)/length(district),ylim=c(0, 0.47)); box() "
   ]
  },
  {
   "cell_type": "code",
   "execution_count": 147,
   "metadata": {
    "vscode": {
     "languageId": "r"
    }
   },
   "outputs": [],
   "source": [
    "### 3D plots (for instance, let's plot a bivariate Gaussian density)\n",
    "\n",
    "x = seq(-4, 4, 0.15)\n",
    "y = seq(-4, 4, 0.15)\n",
    "\n",
    "# To build a function in R\n",
    "gaussian = function(x, y) {\n",
    "  exp(-(x^2 + y^2 + x * y))\n",
    "}\n",
    "# 参数NA表示将矩阵中的所有元素初始化为缺失值（NA）\n",
    "\n",
    "w = matrix(NA, nrow = length(x), ncol=length(y))\n",
    "\n",
    "\n",
    "# for\n",
    "for(i in 1:length(x)) {\n",
    "  for(j in 1:length(y)) {\n",
    "    w[i, j] = gaussian(x[i], y[j])\n",
    "  }\n",
    "}\n",
    "\n",
    "# or\n",
    "# 对两个向量进行二元运算，生成一个矩阵或数组\n",
    "# outer(X,Y,FUN)函数的作用是将函数FUN()应用于向量X和Y中的所有可能的元素对，生成一个矩阵或数组Z\n",
    "w = outer(x, y, gaussian)"
   ]
  },
  {
   "cell_type": "code",
   "execution_count": 148,
   "metadata": {
    "vscode": {
     "languageId": "r"
    }
   },
   "outputs": [
    {
     "data": {
      "image/png": "[encoded data removed]",
      "text/plain": [
       "plot without title"
      ]
     },
     "metadata": {
      "image/png": {
       "height": 420,
       "width": 420
      }
     },
     "output_type": "display_data"
    }
   ],
   "source": [
    "# x11()\n",
    "image(x, y, w) # image(x, y, w)函数用于绘制矩阵w的图像表示，其中x和y分别为矩阵w的行标和列标\n",
    "contour(x, y, w, add=T) # contour(x, y, w, add=T)函数用于在上一步绘制的图像上添加等高线。"
   ]
  },
  {
   "cell_type": "code",
   "execution_count": 149,
   "metadata": {
    "vscode": {
     "languageId": "r"
    }
   },
   "outputs": [
    {
     "data": {
      "image/png": "[encoded data removed]",
      "text/plain": [
       "plot without title"
      ]
     },
     "metadata": {
      "image/png": {
       "height": 420,
       "width": 420
      }
     },
     "output_type": "display_data"
    },
    {
     "data": {
      "image/png": "[encoded data removed]",
      "text/plain": [
       "plot without title"
      ]
     },
     "metadata": {
      "image/png": {
       "height": 420,
       "width": 420
      }
     },
     "output_type": "display_data"
    }
   ],
   "source": [
    "# x11()\n",
    "persp(x, y, w, col='red') # 绘制三维图像\n",
    "# theta和phi分别控制图像的观察角度和仰角；shade参数控制表面的阴影强度；zlab参数用于添加z轴标签\n",
    "persp(x, y, w, col='red', theta=30, phi=30, shade=.05, zlab='density')"
   ]
  },
  {
   "cell_type": "code",
   "execution_count": 150,
   "metadata": {
    "vscode": {
     "languageId": "r"
    }
   },
   "outputs": [
    {
     "name": "stderr",
     "output_type": "stream",
     "text": [
      "\n",
      "载入程辑包：'rgl'\n",
      "\n",
      "\n",
      "The following object is masked from 'package:plotrix':\n",
      "\n",
      "    mtext3d\n",
      "\n",
      "\n"
     ]
    }
   ],
   "source": [
    "library(rgl) # 该包提供了用于绘制交互式三维图形的函数。\n",
    "options(rgl.printRglwidget = TRUE) # 在运行rgl函数时，会生成一个交互式的图形窗口，其中用户可以旋转、缩放和平移图形以查看其不同的角度和视角。\n",
    "# persp3d()函数绘制的表面是半透明的\n",
    "# 使用alpha=1将表面的透明度设置为完全不透明，即不可见底部的对象。\n",
    "persp3d(x, y, w, col='red', alpha=0.5) \n",
    "\n",
    "# 在图形中添加一条蓝色实线，其中x,x表示线段的起点和终点，gaussian(x,x)表示线段在每个点的高度（z值） \n",
    "lines3d(x,x, gaussian(x,x), col='blue', lty=1)\n",
    "# 添加一条蓝色虚线，其中x,x表示线段的起点和终点，0表示线段在每个点的高度（$z$值）\n",
    "lines3d(x,x, 0, col='blue', lty=2)"
   ]
  },
  {
   "cell_type": "code",
   "execution_count": null,
   "metadata": {
    "vscode": {
     "languageId": "r"
    }
   },
   "outputs": [],
   "source": [
    "##### Save plots\n",
    "set\n",
    "x11()\n",
    "plot(rnorm(10), rnorm(10)) \n",
    "bmp(file=\"myplot.bmp\")\n",
    "plot(rnorm(10), rnorm(10))\n",
    "dev.off()\n",
    "\n",
    "jpeg(file=\"myplot.jpeg\")\n",
    "plot(rnorm(10), rnorm(10))\n",
    "dev.off()\n",
    "\n",
    "png(file=\"myplot.png\")\n",
    "plot(rnorm(10), rnorm(10))\n",
    "dev.off()\n",
    "\n",
    "pdf(file=\"myplot.pdf\")\n",
    "plot(rnorm(10), rnorm(10))\n",
    "dev.off()\n",
    "\n",
    "pdf(file=\"myplot2.pdf\", onefile=T) # onefile=T 将多个图存在一个PDF文件内\n",
    "plot(rnorm(10), rnorm(10))\n",
    "plot(rnorm(100), rnorm(100))\n",
    "plot(rnorm(100), rnorm(100))\n",
    "dev.off()"
   ]
  }
 ],
 "metadata": {
  "kernelspec": {
   "display_name": "R",
   "language": "R",
   "name": "ir"
  },
  "language_info": {
   "codemirror_mode": "r",
   "file_extension": ".r",
   "mimetype": "text/x-r-source",
   "name": "R",
   "pygments_lexer": "r",
   "version": "4.2.2"
  },
  "orig_nbformat": 4
 },
 "nbformat": 4,
 "nbformat_minor": 2
}
